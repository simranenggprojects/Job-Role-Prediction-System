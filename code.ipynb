{
 "cells": [
  {
   "cell_type": "markdown",
   "id": "a160ca51",
   "metadata": {},
   "source": [
    "1. The dataset (‘roo-data.csv’) provides anonymized information for graduates along with their respective scores in various CS subjects. Specifically, the suggested job role is predicted for every graduate based on the courses they have done.\n",
    "2. The task is to make a ML-based prediction system to predict the job role for a new graduate.\n",
    "3. Specifically, you will have to do the following:\n",
    "* Study the given data thoroughly and then modify it/prepare it considering the end goal at hand – suggesting a suitable role.\n",
    "* Divide it into training and testing sets.\n",
    "* Using the sklearn library, train a ML model (ANN) using the training data.\n",
    "* Predict the outcome for the testing data.\n",
    "* Using the predicted labels and actual labels, find out accuracy, confusion matrix and class-wise accuracies.\n",
    "* Also, you need to experiment with data preparation - analyze what modifications produce better results and why. Try out different ratios of train-test splits (60-40, 70-30, 90-10 etc.), shuffling the data etc.\n",
    "* You do not have to connect this data or the prediction system with your electives advisory system that you have already built in assignment 1. This can be independent of that. The aim is to get you to build a ML model for prediction of job role on training data. However, if you want to you can rename some of the courses with the electives that you have considered, but use the given data for those attributes.\n",
    "* You are free to club some job roles like “Business Intelligence Analyst” and “Business Systems Analyst” into “Analyst”, etc. and reduce it to 5 to 7 class classification task. \n",
    "* Similarly, for the values of various attributes you can bucketize the values into various ranges or categorize them such as “high”, “medium”, “low”.\n",
    "4. You are required to submit in a zip file consisting of your code (.py file/ .ipynb notebook) along with a report. The report (in pdf format) should contain the steps you did for data preparation/modification, the experiments you performed, results, analysis on the obtained results, and the listing of the program. "
   ]
  },
  {
   "cell_type": "code",
   "execution_count": 1,
   "id": "a1911d9c",
   "metadata": {},
   "outputs": [],
   "source": [
    "#importing libraries\n",
    "import pandas as pd\n",
    "import numpy as np\n",
    "import seaborn as sns\n",
    "import matplotlib.pyplot as plt\n",
    "import pickle"
   ]
  },
  {
   "cell_type": "code",
   "execution_count": 2,
   "id": "9f2cf3f7",
   "metadata": {
    "scrolled": false
   },
   "outputs": [
    {
     "data": {
      "text/html": [
       "<div>\n",
       "<style scoped>\n",
       "    .dataframe tbody tr th:only-of-type {\n",
       "        vertical-align: middle;\n",
       "    }\n",
       "\n",
       "    .dataframe tbody tr th {\n",
       "        vertical-align: top;\n",
       "    }\n",
       "\n",
       "    .dataframe thead th {\n",
       "        text-align: right;\n",
       "    }\n",
       "</style>\n",
       "<table border=\"1\" class=\"dataframe\">\n",
       "  <thead>\n",
       "    <tr style=\"text-align: right;\">\n",
       "      <th></th>\n",
       "      <th>Acedamic percentage in Operating Systems</th>\n",
       "      <th>percentage in Algorithms</th>\n",
       "      <th>Percentage in Programming Concepts</th>\n",
       "      <th>Percentage in Software Engineering</th>\n",
       "      <th>Percentage in Computer Networks</th>\n",
       "      <th>Percentage in Electronics Subjects</th>\n",
       "      <th>Percentage in Computer Architecture</th>\n",
       "      <th>Percentage in Mathematics</th>\n",
       "      <th>Percentage in Communication skills</th>\n",
       "      <th>Hours working per day</th>\n",
       "      <th>...</th>\n",
       "      <th>Interested Type of Books</th>\n",
       "      <th>Salary Range Expected</th>\n",
       "      <th>In a Realtionship?</th>\n",
       "      <th>Gentle or Tuff behaviour?</th>\n",
       "      <th>Management or Technical</th>\n",
       "      <th>Salary/work</th>\n",
       "      <th>hard/smart worker</th>\n",
       "      <th>worked in teams ever?</th>\n",
       "      <th>Introvert</th>\n",
       "      <th>Suggested Job Role</th>\n",
       "    </tr>\n",
       "  </thead>\n",
       "  <tbody>\n",
       "    <tr>\n",
       "      <th>0</th>\n",
       "      <td>69</td>\n",
       "      <td>63</td>\n",
       "      <td>78</td>\n",
       "      <td>87</td>\n",
       "      <td>94</td>\n",
       "      <td>94</td>\n",
       "      <td>87</td>\n",
       "      <td>84</td>\n",
       "      <td>61</td>\n",
       "      <td>9</td>\n",
       "      <td>...</td>\n",
       "      <td>Prayer books</td>\n",
       "      <td>salary</td>\n",
       "      <td>no</td>\n",
       "      <td>stubborn</td>\n",
       "      <td>Management</td>\n",
       "      <td>salary</td>\n",
       "      <td>hard worker</td>\n",
       "      <td>yes</td>\n",
       "      <td>no</td>\n",
       "      <td>Database Developer</td>\n",
       "    </tr>\n",
       "    <tr>\n",
       "      <th>1</th>\n",
       "      <td>78</td>\n",
       "      <td>62</td>\n",
       "      <td>73</td>\n",
       "      <td>60</td>\n",
       "      <td>71</td>\n",
       "      <td>70</td>\n",
       "      <td>73</td>\n",
       "      <td>84</td>\n",
       "      <td>91</td>\n",
       "      <td>12</td>\n",
       "      <td>...</td>\n",
       "      <td>Childrens</td>\n",
       "      <td>salary</td>\n",
       "      <td>yes</td>\n",
       "      <td>gentle</td>\n",
       "      <td>Technical</td>\n",
       "      <td>salary</td>\n",
       "      <td>hard worker</td>\n",
       "      <td>no</td>\n",
       "      <td>yes</td>\n",
       "      <td>Portal Administrator</td>\n",
       "    </tr>\n",
       "    <tr>\n",
       "      <th>2</th>\n",
       "      <td>71</td>\n",
       "      <td>86</td>\n",
       "      <td>91</td>\n",
       "      <td>87</td>\n",
       "      <td>61</td>\n",
       "      <td>81</td>\n",
       "      <td>72</td>\n",
       "      <td>72</td>\n",
       "      <td>94</td>\n",
       "      <td>11</td>\n",
       "      <td>...</td>\n",
       "      <td>Travel</td>\n",
       "      <td>Work</td>\n",
       "      <td>no</td>\n",
       "      <td>stubborn</td>\n",
       "      <td>Management</td>\n",
       "      <td>work</td>\n",
       "      <td>hard worker</td>\n",
       "      <td>no</td>\n",
       "      <td>yes</td>\n",
       "      <td>Portal Administrator</td>\n",
       "    </tr>\n",
       "    <tr>\n",
       "      <th>3</th>\n",
       "      <td>76</td>\n",
       "      <td>87</td>\n",
       "      <td>60</td>\n",
       "      <td>84</td>\n",
       "      <td>89</td>\n",
       "      <td>73</td>\n",
       "      <td>62</td>\n",
       "      <td>88</td>\n",
       "      <td>69</td>\n",
       "      <td>7</td>\n",
       "      <td>...</td>\n",
       "      <td>Romance</td>\n",
       "      <td>Work</td>\n",
       "      <td>yes</td>\n",
       "      <td>gentle</td>\n",
       "      <td>Management</td>\n",
       "      <td>work</td>\n",
       "      <td>smart worker</td>\n",
       "      <td>yes</td>\n",
       "      <td>yes</td>\n",
       "      <td>Systems Security Administrator</td>\n",
       "    </tr>\n",
       "    <tr>\n",
       "      <th>4</th>\n",
       "      <td>92</td>\n",
       "      <td>62</td>\n",
       "      <td>90</td>\n",
       "      <td>67</td>\n",
       "      <td>71</td>\n",
       "      <td>89</td>\n",
       "      <td>73</td>\n",
       "      <td>71</td>\n",
       "      <td>73</td>\n",
       "      <td>4</td>\n",
       "      <td>...</td>\n",
       "      <td>Cookbooks</td>\n",
       "      <td>salary</td>\n",
       "      <td>no</td>\n",
       "      <td>stubborn</td>\n",
       "      <td>Management</td>\n",
       "      <td>work</td>\n",
       "      <td>hard worker</td>\n",
       "      <td>yes</td>\n",
       "      <td>yes</td>\n",
       "      <td>Business Systems Analyst</td>\n",
       "    </tr>\n",
       "  </tbody>\n",
       "</table>\n",
       "<p>5 rows × 39 columns</p>\n",
       "</div>"
      ],
      "text/plain": [
       "   Acedamic percentage in Operating Systems  percentage in Algorithms  \\\n",
       "0                                        69                        63   \n",
       "1                                        78                        62   \n",
       "2                                        71                        86   \n",
       "3                                        76                        87   \n",
       "4                                        92                        62   \n",
       "\n",
       "   Percentage in Programming Concepts  Percentage in Software Engineering  \\\n",
       "0                                  78                                  87   \n",
       "1                                  73                                  60   \n",
       "2                                  91                                  87   \n",
       "3                                  60                                  84   \n",
       "4                                  90                                  67   \n",
       "\n",
       "   Percentage in Computer Networks  Percentage in Electronics Subjects  \\\n",
       "0                               94                                  94   \n",
       "1                               71                                  70   \n",
       "2                               61                                  81   \n",
       "3                               89                                  73   \n",
       "4                               71                                  89   \n",
       "\n",
       "   Percentage in Computer Architecture  Percentage in Mathematics  \\\n",
       "0                                   87                         84   \n",
       "1                                   73                         84   \n",
       "2                                   72                         72   \n",
       "3                                   62                         88   \n",
       "4                                   73                         71   \n",
       "\n",
       "   Percentage in Communication skills  Hours working per day  ...  \\\n",
       "0                                  61                      9  ...   \n",
       "1                                  91                     12  ...   \n",
       "2                                  94                     11  ...   \n",
       "3                                  69                      7  ...   \n",
       "4                                  73                      4  ...   \n",
       "\n",
       "   Interested Type of Books  Salary Range Expected  In a Realtionship?  \\\n",
       "0              Prayer books                 salary                  no   \n",
       "1                 Childrens                 salary                 yes   \n",
       "2                    Travel                   Work                  no   \n",
       "3                   Romance                   Work                 yes   \n",
       "4                 Cookbooks                 salary                  no   \n",
       "\n",
       "   Gentle or Tuff behaviour? Management or Technical Salary/work  \\\n",
       "0                   stubborn              Management      salary   \n",
       "1                     gentle               Technical      salary   \n",
       "2                   stubborn              Management        work   \n",
       "3                     gentle              Management        work   \n",
       "4                   stubborn              Management        work   \n",
       "\n",
       "  hard/smart worker worked in teams ever? Introvert  \\\n",
       "0       hard worker                   yes        no   \n",
       "1       hard worker                    no       yes   \n",
       "2       hard worker                    no       yes   \n",
       "3      smart worker                   yes       yes   \n",
       "4       hard worker                   yes       yes   \n",
       "\n",
       "               Suggested Job Role  \n",
       "0              Database Developer  \n",
       "1            Portal Administrator  \n",
       "2            Portal Administrator  \n",
       "3  Systems Security Administrator  \n",
       "4        Business Systems Analyst  \n",
       "\n",
       "[5 rows x 39 columns]"
      ]
     },
     "execution_count": 2,
     "metadata": {},
     "output_type": "execute_result"
    }
   ],
   "source": [
    "data = pd.read_csv(\"C:/Users/Simran/Downloads/Subjects/AI/Assignment/Assignment 4/roo_data.csv\")\n",
    "data.head()"
   ]
  },
  {
   "cell_type": "code",
   "execution_count": 3,
   "id": "7ad9233a",
   "metadata": {},
   "outputs": [
    {
     "data": {
      "text/plain": [
       "Index(['Acedamic percentage in Operating Systems', 'percentage in Algorithms',\n",
       "       'Percentage in Programming Concepts',\n",
       "       'Percentage in Software Engineering', 'Percentage in Computer Networks',\n",
       "       'Percentage in Electronics Subjects',\n",
       "       'Percentage in Computer Architecture', 'Percentage in Mathematics',\n",
       "       'Percentage in Communication skills', 'Hours working per day',\n",
       "       'Logical quotient rating', 'hackathons', 'coding skills rating',\n",
       "       'public speaking points', 'can work long time before system?',\n",
       "       'self-learning capability?', 'Extra-courses did', 'certifications',\n",
       "       'workshops', 'talenttests taken?', 'olympiads',\n",
       "       'reading and writing skills', 'memory capability score',\n",
       "       'Interested subjects', 'interested career area ', 'Job/Higher Studies?',\n",
       "       'Type of company want to settle in?',\n",
       "       'Taken inputs from seniors or elders', 'interested in games',\n",
       "       'Interested Type of Books', 'Salary Range Expected',\n",
       "       'In a Realtionship?', 'Gentle or Tuff behaviour?',\n",
       "       'Management or Technical', 'Salary/work', 'hard/smart worker',\n",
       "       'worked in teams ever?', 'Introvert', 'Suggested Job Role'],\n",
       "      dtype='object')"
      ]
     },
     "execution_count": 3,
     "metadata": {},
     "output_type": "execute_result"
    }
   ],
   "source": [
    "data.columns"
   ]
  },
  {
   "cell_type": "code",
   "execution_count": 4,
   "id": "d01f47dd",
   "metadata": {},
   "outputs": [
    {
     "data": {
      "text/plain": [
       "(20000, 39)"
      ]
     },
     "execution_count": 4,
     "metadata": {},
     "output_type": "execute_result"
    }
   ],
   "source": [
    "data.shape"
   ]
  },
  {
   "cell_type": "code",
   "execution_count": 5,
   "id": "3e1a14ff",
   "metadata": {},
   "outputs": [
    {
     "name": "stdout",
     "output_type": "stream",
     "text": [
      "<class 'pandas.core.frame.DataFrame'>\n",
      "RangeIndex: 20000 entries, 0 to 19999\n",
      "Data columns (total 39 columns):\n",
      " #   Column                                    Non-Null Count  Dtype \n",
      "---  ------                                    --------------  ----- \n",
      " 0   Acedamic percentage in Operating Systems  20000 non-null  int64 \n",
      " 1   percentage in Algorithms                  20000 non-null  int64 \n",
      " 2   Percentage in Programming Concepts        20000 non-null  int64 \n",
      " 3   Percentage in Software Engineering        20000 non-null  int64 \n",
      " 4   Percentage in Computer Networks           20000 non-null  int64 \n",
      " 5   Percentage in Electronics Subjects        20000 non-null  int64 \n",
      " 6   Percentage in Computer Architecture       20000 non-null  int64 \n",
      " 7   Percentage in Mathematics                 20000 non-null  int64 \n",
      " 8   Percentage in Communication skills        20000 non-null  int64 \n",
      " 9   Hours working per day                     20000 non-null  int64 \n",
      " 10  Logical quotient rating                   20000 non-null  int64 \n",
      " 11  hackathons                                20000 non-null  int64 \n",
      " 12  coding skills rating                      20000 non-null  int64 \n",
      " 13  public speaking points                    20000 non-null  int64 \n",
      " 14  can work long time before system?         20000 non-null  object\n",
      " 15  self-learning capability?                 20000 non-null  object\n",
      " 16  Extra-courses did                         20000 non-null  object\n",
      " 17  certifications                            20000 non-null  object\n",
      " 18  workshops                                 20000 non-null  object\n",
      " 19  talenttests taken?                        20000 non-null  object\n",
      " 20  olympiads                                 20000 non-null  object\n",
      " 21  reading and writing skills                20000 non-null  object\n",
      " 22  memory capability score                   20000 non-null  object\n",
      " 23  Interested subjects                       20000 non-null  object\n",
      " 24  interested career area                    20000 non-null  object\n",
      " 25  Job/Higher Studies?                       20000 non-null  object\n",
      " 26  Type of company want to settle in?        20000 non-null  object\n",
      " 27  Taken inputs from seniors or elders       20000 non-null  object\n",
      " 28  interested in games                       20000 non-null  object\n",
      " 29  Interested Type of Books                  20000 non-null  object\n",
      " 30  Salary Range Expected                     20000 non-null  object\n",
      " 31  In a Realtionship?                        20000 non-null  object\n",
      " 32  Gentle or Tuff behaviour?                 20000 non-null  object\n",
      " 33  Management or Technical                   20000 non-null  object\n",
      " 34  Salary/work                               20000 non-null  object\n",
      " 35  hard/smart worker                         20000 non-null  object\n",
      " 36  worked in teams ever?                     20000 non-null  object\n",
      " 37  Introvert                                 20000 non-null  object\n",
      " 38  Suggested Job Role                        20000 non-null  object\n",
      "dtypes: int64(14), object(25)\n",
      "memory usage: 6.0+ MB\n"
     ]
    }
   ],
   "source": [
    "data.info()"
   ]
  },
  {
   "cell_type": "code",
   "execution_count": 6,
   "id": "9e5659a9",
   "metadata": {},
   "outputs": [
    {
     "data": {
      "text/html": [
       "<div>\n",
       "<style scoped>\n",
       "    .dataframe tbody tr th:only-of-type {\n",
       "        vertical-align: middle;\n",
       "    }\n",
       "\n",
       "    .dataframe tbody tr th {\n",
       "        vertical-align: top;\n",
       "    }\n",
       "\n",
       "    .dataframe thead th {\n",
       "        text-align: right;\n",
       "    }\n",
       "</style>\n",
       "<table border=\"1\" class=\"dataframe\">\n",
       "  <thead>\n",
       "    <tr style=\"text-align: right;\">\n",
       "      <th></th>\n",
       "      <th>Acedamic percentage in Operating Systems</th>\n",
       "      <th>percentage in Algorithms</th>\n",
       "      <th>Percentage in Programming Concepts</th>\n",
       "      <th>Percentage in Software Engineering</th>\n",
       "      <th>Percentage in Computer Networks</th>\n",
       "      <th>Percentage in Electronics Subjects</th>\n",
       "      <th>Percentage in Computer Architecture</th>\n",
       "      <th>Percentage in Mathematics</th>\n",
       "      <th>Percentage in Communication skills</th>\n",
       "      <th>Hours working per day</th>\n",
       "      <th>Logical quotient rating</th>\n",
       "      <th>hackathons</th>\n",
       "      <th>coding skills rating</th>\n",
       "      <th>public speaking points</th>\n",
       "    </tr>\n",
       "  </thead>\n",
       "  <tbody>\n",
       "    <tr>\n",
       "      <th>count</th>\n",
       "      <td>20000.000000</td>\n",
       "      <td>20000.000000</td>\n",
       "      <td>20000.000000</td>\n",
       "      <td>20000.000000</td>\n",
       "      <td>20000.000000</td>\n",
       "      <td>20000.000000</td>\n",
       "      <td>20000.000000</td>\n",
       "      <td>20000.000000</td>\n",
       "      <td>20000.000000</td>\n",
       "      <td>20000.000000</td>\n",
       "      <td>20000.000000</td>\n",
       "      <td>20000.000000</td>\n",
       "      <td>20000.000000</td>\n",
       "      <td>20000.000000</td>\n",
       "    </tr>\n",
       "    <tr>\n",
       "      <th>mean</th>\n",
       "      <td>77.002300</td>\n",
       "      <td>76.948200</td>\n",
       "      <td>77.017550</td>\n",
       "      <td>77.094500</td>\n",
       "      <td>76.958200</td>\n",
       "      <td>77.015550</td>\n",
       "      <td>77.069850</td>\n",
       "      <td>76.913100</td>\n",
       "      <td>76.921450</td>\n",
       "      <td>7.985950</td>\n",
       "      <td>4.995050</td>\n",
       "      <td>2.992650</td>\n",
       "      <td>5.004750</td>\n",
       "      <td>5.012800</td>\n",
       "    </tr>\n",
       "    <tr>\n",
       "      <th>std</th>\n",
       "      <td>10.085697</td>\n",
       "      <td>10.101733</td>\n",
       "      <td>10.134815</td>\n",
       "      <td>10.087837</td>\n",
       "      <td>10.020088</td>\n",
       "      <td>10.168888</td>\n",
       "      <td>10.069059</td>\n",
       "      <td>10.138555</td>\n",
       "      <td>10.103494</td>\n",
       "      <td>2.593798</td>\n",
       "      <td>2.578383</td>\n",
       "      <td>2.005791</td>\n",
       "      <td>2.576831</td>\n",
       "      <td>2.588875</td>\n",
       "    </tr>\n",
       "    <tr>\n",
       "      <th>min</th>\n",
       "      <td>60.000000</td>\n",
       "      <td>60.000000</td>\n",
       "      <td>60.000000</td>\n",
       "      <td>60.000000</td>\n",
       "      <td>60.000000</td>\n",
       "      <td>60.000000</td>\n",
       "      <td>60.000000</td>\n",
       "      <td>60.000000</td>\n",
       "      <td>60.000000</td>\n",
       "      <td>4.000000</td>\n",
       "      <td>1.000000</td>\n",
       "      <td>0.000000</td>\n",
       "      <td>1.000000</td>\n",
       "      <td>1.000000</td>\n",
       "    </tr>\n",
       "    <tr>\n",
       "      <th>25%</th>\n",
       "      <td>68.000000</td>\n",
       "      <td>68.000000</td>\n",
       "      <td>68.000000</td>\n",
       "      <td>68.000000</td>\n",
       "      <td>68.000000</td>\n",
       "      <td>68.000000</td>\n",
       "      <td>68.000000</td>\n",
       "      <td>68.000000</td>\n",
       "      <td>68.000000</td>\n",
       "      <td>6.000000</td>\n",
       "      <td>3.000000</td>\n",
       "      <td>1.000000</td>\n",
       "      <td>3.000000</td>\n",
       "      <td>3.000000</td>\n",
       "    </tr>\n",
       "    <tr>\n",
       "      <th>50%</th>\n",
       "      <td>77.000000</td>\n",
       "      <td>77.000000</td>\n",
       "      <td>77.000000</td>\n",
       "      <td>77.000000</td>\n",
       "      <td>77.000000</td>\n",
       "      <td>77.000000</td>\n",
       "      <td>77.000000</td>\n",
       "      <td>77.000000</td>\n",
       "      <td>77.000000</td>\n",
       "      <td>8.000000</td>\n",
       "      <td>5.000000</td>\n",
       "      <td>3.000000</td>\n",
       "      <td>5.000000</td>\n",
       "      <td>5.000000</td>\n",
       "    </tr>\n",
       "    <tr>\n",
       "      <th>75%</th>\n",
       "      <td>86.000000</td>\n",
       "      <td>86.000000</td>\n",
       "      <td>86.000000</td>\n",
       "      <td>86.000000</td>\n",
       "      <td>85.000000</td>\n",
       "      <td>86.000000</td>\n",
       "      <td>86.000000</td>\n",
       "      <td>86.000000</td>\n",
       "      <td>86.000000</td>\n",
       "      <td>10.000000</td>\n",
       "      <td>7.000000</td>\n",
       "      <td>5.000000</td>\n",
       "      <td>7.000000</td>\n",
       "      <td>7.000000</td>\n",
       "    </tr>\n",
       "    <tr>\n",
       "      <th>max</th>\n",
       "      <td>94.000000</td>\n",
       "      <td>94.000000</td>\n",
       "      <td>94.000000</td>\n",
       "      <td>94.000000</td>\n",
       "      <td>94.000000</td>\n",
       "      <td>94.000000</td>\n",
       "      <td>94.000000</td>\n",
       "      <td>94.000000</td>\n",
       "      <td>94.000000</td>\n",
       "      <td>12.000000</td>\n",
       "      <td>9.000000</td>\n",
       "      <td>6.000000</td>\n",
       "      <td>9.000000</td>\n",
       "      <td>9.000000</td>\n",
       "    </tr>\n",
       "  </tbody>\n",
       "</table>\n",
       "</div>"
      ],
      "text/plain": [
       "       Acedamic percentage in Operating Systems  percentage in Algorithms  \\\n",
       "count                              20000.000000              20000.000000   \n",
       "mean                                  77.002300                 76.948200   \n",
       "std                                   10.085697                 10.101733   \n",
       "min                                   60.000000                 60.000000   \n",
       "25%                                   68.000000                 68.000000   \n",
       "50%                                   77.000000                 77.000000   \n",
       "75%                                   86.000000                 86.000000   \n",
       "max                                   94.000000                 94.000000   \n",
       "\n",
       "       Percentage in Programming Concepts  Percentage in Software Engineering  \\\n",
       "count                        20000.000000                        20000.000000   \n",
       "mean                            77.017550                           77.094500   \n",
       "std                             10.134815                           10.087837   \n",
       "min                             60.000000                           60.000000   \n",
       "25%                             68.000000                           68.000000   \n",
       "50%                             77.000000                           77.000000   \n",
       "75%                             86.000000                           86.000000   \n",
       "max                             94.000000                           94.000000   \n",
       "\n",
       "       Percentage in Computer Networks  Percentage in Electronics Subjects  \\\n",
       "count                     20000.000000                        20000.000000   \n",
       "mean                         76.958200                           77.015550   \n",
       "std                          10.020088                           10.168888   \n",
       "min                          60.000000                           60.000000   \n",
       "25%                          68.000000                           68.000000   \n",
       "50%                          77.000000                           77.000000   \n",
       "75%                          85.000000                           86.000000   \n",
       "max                          94.000000                           94.000000   \n",
       "\n",
       "       Percentage in Computer Architecture  Percentage in Mathematics  \\\n",
       "count                         20000.000000               20000.000000   \n",
       "mean                             77.069850                  76.913100   \n",
       "std                              10.069059                  10.138555   \n",
       "min                              60.000000                  60.000000   \n",
       "25%                              68.000000                  68.000000   \n",
       "50%                              77.000000                  77.000000   \n",
       "75%                              86.000000                  86.000000   \n",
       "max                              94.000000                  94.000000   \n",
       "\n",
       "       Percentage in Communication skills  Hours working per day  \\\n",
       "count                        20000.000000           20000.000000   \n",
       "mean                            76.921450               7.985950   \n",
       "std                             10.103494               2.593798   \n",
       "min                             60.000000               4.000000   \n",
       "25%                             68.000000               6.000000   \n",
       "50%                             77.000000               8.000000   \n",
       "75%                             86.000000              10.000000   \n",
       "max                             94.000000              12.000000   \n",
       "\n",
       "       Logical quotient rating    hackathons  coding skills rating  \\\n",
       "count             20000.000000  20000.000000          20000.000000   \n",
       "mean                  4.995050      2.992650              5.004750   \n",
       "std                   2.578383      2.005791              2.576831   \n",
       "min                   1.000000      0.000000              1.000000   \n",
       "25%                   3.000000      1.000000              3.000000   \n",
       "50%                   5.000000      3.000000              5.000000   \n",
       "75%                   7.000000      5.000000              7.000000   \n",
       "max                   9.000000      6.000000              9.000000   \n",
       "\n",
       "       public speaking points  \n",
       "count            20000.000000  \n",
       "mean                 5.012800  \n",
       "std                  2.588875  \n",
       "min                  1.000000  \n",
       "25%                  3.000000  \n",
       "50%                  5.000000  \n",
       "75%                  7.000000  \n",
       "max                  9.000000  "
      ]
     },
     "execution_count": 6,
     "metadata": {},
     "output_type": "execute_result"
    }
   ],
   "source": [
    "data.describe()"
   ]
  },
  {
   "cell_type": "code",
   "execution_count": 7,
   "id": "28ecf833",
   "metadata": {},
   "outputs": [
    {
     "name": "stdout",
     "output_type": "stream",
     "text": [
      "------------------------------------------\n",
      "Unique values for Acedamic percentage in Operating Systems\n",
      "------------------------------------------\n",
      "[69 78 71 76 92 88 93 84 73 62 63 68 90 94 60 82 67 65 74 75 83 89 80 70\n",
      " 66 85 61 81 79 86 64 91 72 77 87]\n",
      "------------------------------------------\n",
      "Unique values for percentage in Algorithms\n",
      "------------------------------------------\n",
      "[63 62 86 87 77 72 66 76 80 64 93 83 71 92 91 73 61 89 67 74 82 60 68 88\n",
      " 70 85 81 78 84 69 94 75 65 79 90]\n",
      "------------------------------------------\n",
      "Unique values for Percentage in Programming Concepts\n",
      "------------------------------------------\n",
      "[78 73 91 60 90 62 69 88 66 85 70 81 61 77 63 94 68 76 75 93 64 65 84 72\n",
      " 80 86 74 83 67 79 71 87 92 82 89]\n",
      "------------------------------------------\n",
      "Unique values for Percentage in Software Engineering\n",
      "------------------------------------------\n",
      "[87 60 84 67 79 62 81 91 83 90 71 74 63 86 70 75 92 93 72 78 85 64 82 65\n",
      " 69 94 73 66 80 68 61 88 77 76 89]\n",
      "------------------------------------------\n",
      "Unique values for Percentage in Computer Networks\n",
      "------------------------------------------\n",
      "[94 71 61 89 93 90 66 81 82 70 77 65 62 64 78 63 67 86 69 92 84 85 87 68\n",
      " 83 60 88 74 75 80 91 72 76 73 79]\n",
      "------------------------------------------\n",
      "Unique values for Percentage in Electronics Subjects\n",
      "------------------------------------------\n",
      "[94 70 81 73 89 84 93 63 69 82 72 67 65 61 88 91 74 90 80 79 75 62 76 77\n",
      " 83 92 60 71 68 66 87 64 86 85 78]\n",
      "------------------------------------------\n",
      "Unique values for Percentage in Computer Architecture\n",
      "------------------------------------------\n",
      "[87 73 72 62 69 78 61 63 75 86 65 67 92 91 88 82 80 83 90 71 89 81 79 93\n",
      " 70 84 85 76 74 64 77 94 60 68 66]\n",
      "------------------------------------------\n",
      "Unique values for Percentage in Mathematics\n",
      "------------------------------------------\n",
      "[84 72 88 71 63 94 87 89 64 81 62 73 65 82 60 61 80 77 78 68 76 83 92 93\n",
      " 70 79 75 85 91 74 67 66 69 90 86]\n",
      "------------------------------------------\n",
      "Unique values for Percentage in Communication skills\n",
      "------------------------------------------\n",
      "[61 91 94 69 73 82 77 60 90 81 89 85 79 62 68 70 84 65 66 67 75 87 76 80\n",
      " 78 63 64 88 92 71 93 86 83 74 72]\n",
      "------------------------------------------\n",
      "Unique values for Hours working per day\n",
      "------------------------------------------\n",
      "[ 9 12 11  7  4  6 10  8  5]\n",
      "------------------------------------------\n",
      "Unique values for Logical quotient rating\n",
      "------------------------------------------\n",
      "[4 7 1 5 3 2 9 6 8]\n",
      "------------------------------------------\n",
      "Unique values for hackathons\n",
      "------------------------------------------\n",
      "[0 1 4 3 2 6 5]\n",
      "------------------------------------------\n",
      "Unique values for coding skills rating\n",
      "------------------------------------------\n",
      "[4 2 1 6 8 3 5 9 7]\n",
      "------------------------------------------\n",
      "Unique values for public speaking points\n",
      "------------------------------------------\n",
      "[8 3 5 1 6 4 9 7 2]\n",
      "------------------------------------------\n",
      "Unique values for can work long time before system?\n",
      "------------------------------------------\n",
      "['yes' 'no']\n",
      "------------------------------------------\n",
      "Unique values for self-learning capability?\n",
      "------------------------------------------\n",
      "['yes' 'no']\n",
      "------------------------------------------\n",
      "Unique values for Extra-courses did\n",
      "------------------------------------------\n",
      "['yes' 'no']\n",
      "------------------------------------------\n",
      "Unique values for certifications\n",
      "------------------------------------------\n",
      "['shell programming' 'machine learning' 'app development' 'python'\n",
      " 'r programming' 'information security' 'hadoop' 'distro making'\n",
      " 'full stack']\n",
      "------------------------------------------\n",
      "Unique values for workshops\n",
      "------------------------------------------\n",
      "['cloud computing' 'database security' 'web technologies' 'data science'\n",
      " 'testing' 'hacking' 'game development' 'system designing']\n",
      "------------------------------------------\n",
      "Unique values for talenttests taken?\n",
      "------------------------------------------\n",
      "['no' 'yes']\n",
      "------------------------------------------\n",
      "Unique values for olympiads\n",
      "------------------------------------------\n",
      "['yes' 'no']\n",
      "------------------------------------------\n",
      "Unique values for reading and writing skills\n",
      "------------------------------------------\n",
      "['excellent' 'poor' 'medium']\n",
      "------------------------------------------\n",
      "Unique values for memory capability score\n",
      "------------------------------------------\n",
      "['excellent' 'medium' 'poor']\n",
      "------------------------------------------\n",
      "Unique values for Interested subjects\n",
      "------------------------------------------\n",
      "['cloud computing' 'networks' 'hacking' 'Computer Architecture'\n",
      " 'programming' 'parallel computing' 'IOT' 'data engineering'\n",
      " 'Software Engineering' 'Management']\n",
      "------------------------------------------\n",
      "Unique values for interested career area \n",
      "------------------------------------------\n",
      "['system developer' 'Business process analyst' 'developer' 'testing'\n",
      " 'security' 'cloud computing']\n",
      "------------------------------------------\n",
      "Unique values for Job/Higher Studies?\n",
      "------------------------------------------\n",
      "['higherstudies' 'job']\n",
      "------------------------------------------\n",
      "Unique values for Type of company want to settle in?\n",
      "------------------------------------------\n",
      "['Web Services' 'SAaS services' 'Sales and Marketing'\n",
      " 'Testing and Maintainance Services' 'product development' 'BPA'\n",
      " 'Service Based' 'Product based' 'Cloud Services' 'Finance']\n",
      "------------------------------------------\n",
      "Unique values for Taken inputs from seniors or elders\n",
      "------------------------------------------\n",
      "['no' 'yes']\n",
      "------------------------------------------\n",
      "Unique values for interested in games\n",
      "------------------------------------------\n",
      "['no' 'yes']\n",
      "------------------------------------------\n",
      "Unique values for Interested Type of Books\n",
      "------------------------------------------\n",
      "['Prayer books' 'Childrens' 'Travel' 'Romance' 'Cookbooks' 'Self help'\n",
      " 'Drama' 'Math' 'Religion-Spirituality' 'Anthology' 'Trilogy'\n",
      " 'Autobiographies' 'Mystery' 'Diaries' 'Journals' 'History' 'Art'\n",
      " 'Dictionaries' 'Horror' 'Encyclopedias' 'Action and Adventure' 'Fantasy'\n",
      " 'Comics' 'Science fiction' 'Series' 'Guide' 'Biographies' 'Health'\n",
      " 'Satire' 'Science' 'Poetry']\n",
      "------------------------------------------\n",
      "Unique values for Salary Range Expected\n",
      "------------------------------------------\n",
      "['salary' 'Work']\n",
      "------------------------------------------\n",
      "Unique values for In a Realtionship?\n",
      "------------------------------------------\n",
      "['no' 'yes']\n",
      "------------------------------------------\n",
      "Unique values for Gentle or Tuff behaviour?\n",
      "------------------------------------------\n",
      "['stubborn' 'gentle']\n",
      "------------------------------------------\n",
      "Unique values for Management or Technical\n",
      "------------------------------------------\n",
      "['Management' 'Technical']\n",
      "------------------------------------------\n",
      "Unique values for Salary/work\n",
      "------------------------------------------\n",
      "['salary' 'work']\n",
      "------------------------------------------\n",
      "Unique values for hard/smart worker\n",
      "------------------------------------------\n",
      "['hard worker' 'smart worker']\n",
      "------------------------------------------\n",
      "Unique values for worked in teams ever?\n",
      "------------------------------------------\n",
      "['yes' 'no']\n",
      "------------------------------------------\n",
      "Unique values for Introvert\n",
      "------------------------------------------\n",
      "['no' 'yes']\n",
      "------------------------------------------\n",
      "Unique values for Suggested Job Role\n",
      "------------------------------------------\n",
      "['Database Developer' 'Portal Administrator'\n",
      " 'Systems Security Administrator' 'Business Systems Analyst'\n",
      " 'Software Systems Engineer' 'Business Intelligence Analyst'\n",
      " 'CRM Technical Developer' 'Mobile Applications Developer' 'UX Designer'\n",
      " 'Quality Assurance Associate' 'Web Developer'\n",
      " 'Information Security Analyst' 'CRM Business Analyst' 'Technical Support'\n",
      " 'Project Manager' 'Information Technology Manager' 'Programmer Analyst'\n",
      " 'Design & UX' 'Solutions Architect' 'Systems Analyst'\n",
      " 'Network Security Administrator' 'Data Architect' 'Software Developer'\n",
      " 'E-Commerce Analyst' 'Technical Services/Help Desk/Tech Support'\n",
      " 'Information Technology Auditor' 'Database Manager'\n",
      " 'Applications Developer' 'Database Administrator' 'Network Engineer'\n",
      " 'Software Engineer' 'Technical Engineer' 'Network Security Engineer'\n",
      " 'Software Quality Assurance (QA) / Testing']\n"
     ]
    }
   ],
   "source": [
    "for i in range(0,data.shape[1]):\n",
    "    print(\"------------------------------------------\")\n",
    "    print(\"Unique values for \" + data.columns[i])\n",
    "    print(\"------------------------------------------\")\n",
    "    print(data.iloc[:,i].unique())"
   ]
  },
  {
   "cell_type": "code",
   "execution_count": 8,
   "id": "c36d67c1",
   "metadata": {},
   "outputs": [],
   "source": [
    "X = data.iloc[:,:-1]\n",
    "y = data.iloc[:,-1]"
   ]
  },
  {
   "cell_type": "code",
   "execution_count": 9,
   "id": "2f6e1f13",
   "metadata": {},
   "outputs": [
    {
     "data": {
      "image/png": "[encoded data removed]",
      "text/plain": [
       "<Figure size 432x288 with 1 Axes>"
      ]
     },
     "metadata": {
      "needs_background": "light"
     },
     "output_type": "display_data"
    }
   ],
   "source": [
    "chart = sns.countplot(x=y)\n",
    "chart.set_xticklabels(chart.get_xticklabels(),rotation=90)\n",
    "plt.show()"
   ]
  },
  {
   "cell_type": "code",
   "execution_count": 10,
   "id": "515b1523",
   "metadata": {},
   "outputs": [],
   "source": [
    "import warnings\n",
    "warnings.filterwarnings(\"ignore\")"
   ]
  },
  {
   "cell_type": "code",
   "execution_count": 11,
   "id": "5fd31710",
   "metadata": {},
   "outputs": [],
   "source": [
    "# One hot encoding values so that they can be fed into ANN\n",
    "from sklearn.preprocessing import OneHotEncoder\n",
    "X1 = OneHotEncoder().fit_transform(X)"
   ]
  },
  {
   "cell_type": "code",
   "execution_count": 12,
   "id": "97023221",
   "metadata": {},
   "outputs": [],
   "source": [
    "y1 = y.copy(deep=True)"
   ]
  },
  {
   "cell_type": "code",
   "execution_count": 13,
   "id": "b09ed16c",
   "metadata": {},
   "outputs": [
    {
     "data": {
      "image/png": "[encoded data removed]",
      "text/plain": [
       "<Figure size 432x288 with 1 Axes>"
      ]
     },
     "metadata": {
      "needs_background": "light"
     },
     "output_type": "display_data"
    }
   ],
   "source": [
    "chart = sns.countplot(x=y1)\n",
    "chart.set_xticklabels(chart.get_xticklabels(),rotation=90)\n",
    "plt.show()"
   ]
  },
  {
   "cell_type": "code",
   "execution_count": 13,
   "id": "d13e929e",
   "metadata": {},
   "outputs": [],
   "source": [
    "# train test split\n",
    "from sklearn.model_selection import train_test_split\n",
    "X_train1, X_test1, y_train1, y_test1 = train_test_split(X1,y1,test_size=0.2)"
   ]
  },
  {
   "cell_type": "code",
   "execution_count": 14,
   "id": "aafd3786",
   "metadata": {},
   "outputs": [],
   "source": [
    "from sklearn.neural_network import MLPClassifier\n",
    "clf1 = MLPClassifier(random_state=1).fit(X_train1,y_train1)    #using default parameters"
   ]
  },
  {
   "cell_type": "code",
   "execution_count": 15,
   "id": "8cded8c2",
   "metadata": {},
   "outputs": [
    {
     "data": {
      "text/plain": [
       "0.03125"
      ]
     },
     "execution_count": 15,
     "metadata": {},
     "output_type": "execute_result"
    }
   ],
   "source": [
    "from sklearn.metrics import accuracy_score\n",
    "accuracy_score(clf1.predict(X_test1),y_test1)"
   ]
  },
  {
   "cell_type": "code",
   "execution_count": 16,
   "id": "39789053",
   "metadata": {},
   "outputs": [
    {
     "data": {
      "text/plain": [
       "<16000x470 sparse matrix of type '<class 'numpy.float64'>'\n",
       "\twith 608000 stored elements in Compressed Sparse Row format>"
      ]
     },
     "execution_count": 16,
     "metadata": {},
     "output_type": "execute_result"
    }
   ],
   "source": [
    "X_train1"
   ]
  },
  {
   "cell_type": "code",
   "execution_count": 17,
   "id": "418c2213",
   "metadata": {},
   "outputs": [
    {
     "data": {
      "text/plain": [
       "<4000x470 sparse matrix of type '<class 'numpy.float64'>'\n",
       "\twith 152000 stored elements in Compressed Sparse Row format>"
      ]
     },
     "execution_count": 17,
     "metadata": {},
     "output_type": "execute_result"
    }
   ],
   "source": [
    "X_test1"
   ]
  },
  {
   "cell_type": "code",
   "execution_count": 18,
   "id": "d9b1626c",
   "metadata": {},
   "outputs": [],
   "source": [
    "param_grid = [\n",
    "        {\n",
    "            'random_state': [1],\n",
    "            'activation' : ['identity','logistic', 'tanh', 'relu'],\n",
    "            'solver' : ['lbfgs', 'sgd', 'adam'],\n",
    "            'hidden_layer_sizes': [\n",
    "             (16,),(7,),(25,),(28,),\n",
    "             (16,16),(7,7),(25,25),(28,28),\n",
    "             (16,16,16),(7,7,7),(25,25,25),(28,28,28),\n",
    "             ]\n",
    "        }\n",
    "       ]"
   ]
  },
  {
   "cell_type": "markdown",
   "id": "9bdc4ef4",
   "metadata": {},
   "source": [
    "Performing grid search on parameters (without modifying data (Only one hot encoded so as to apply ANN))"
   ]
  },
  {
   "cell_type": "code",
   "execution_count": 19,
   "id": "859dc1bd",
   "metadata": {},
   "outputs": [
    {
     "name": "stdout",
     "output_type": "stream",
     "text": [
      "{'activation': 'relu', 'hidden_layer_sizes': (16,), 'random_state': 1, 'solver': 'sgd'}\n"
     ]
    }
   ],
   "source": [
    "from sklearn.model_selection import GridSearchCV\n",
    "clf2 = GridSearchCV(MLPClassifier(), param_grid, scoring='accuracy',n_jobs=-1)\n",
    "clf2.fit(X_train1,y_train1)\n",
    "print(clf2.best_params_)"
   ]
  },
  {
   "cell_type": "code",
   "execution_count": 26,
   "id": "1cda1d4b",
   "metadata": {},
   "outputs": [
    {
     "data": {
      "text/plain": [
       "0.0558125"
      ]
     },
     "execution_count": 26,
     "metadata": {},
     "output_type": "execute_result"
    }
   ],
   "source": [
    "clf2.best_score_"
   ]
  },
  {
   "cell_type": "code",
   "execution_count": 27,
   "id": "8adef6de",
   "metadata": {},
   "outputs": [
    {
     "data": {
      "text/plain": [
       "MLPClassifier(hidden_layer_sizes=(16,), random_state=1, solver='sgd')"
      ]
     },
     "execution_count": 27,
     "metadata": {},
     "output_type": "execute_result"
    }
   ],
   "source": [
    "clf2_best = MLPClassifier(activation='relu', hidden_layer_sizes = (16,), solver = 'sgd', random_state=1)\n",
    "clf2_best.fit(X_train1,y_train1)"
   ]
  },
  {
   "cell_type": "code",
   "execution_count": 28,
   "id": "1fbfd5f3",
   "metadata": {},
   "outputs": [
    {
     "name": "stdout",
     "output_type": "stream",
     "text": [
      "Training Accuracy Score:  0.056375\n",
      "Testing Accuracy Score:  0.055\n"
     ]
    }
   ],
   "source": [
    "print(\"Training Accuracy Score: \",accuracy_score(clf2_best.predict(X_train1),y_train1))\n",
    "print(\"Testing Accuracy Score: \",accuracy_score(clf2_best.predict(X_test1),y_test1))"
   ]
  },
  {
   "cell_type": "code",
   "execution_count": 37,
   "id": "a095c8fa",
   "metadata": {
    "scrolled": false
   },
   "outputs": [
    {
     "name": "stdout",
     "output_type": "stream",
     "text": [
      "Train confusion matrix\n",
      "[[0 0 0 ... 0 0 0]\n",
      " [0 0 0 ... 0 0 0]\n",
      " [0 0 0 ... 0 0 0]\n",
      " ...\n",
      " [0 0 0 ... 0 0 0]\n",
      " [0 0 0 ... 0 0 0]\n",
      " [0 0 0 ... 0 0 0]]\n",
      "Test confusion matrix\n",
      "[[0 0 0 ... 0 0 0]\n",
      " [0 0 0 ... 0 0 0]\n",
      " [0 0 0 ... 0 0 0]\n",
      " ...\n",
      " [0 0 0 ... 0 0 0]\n",
      " [0 0 0 ... 0 0 0]\n",
      " [0 0 0 ... 0 0 0]]\n",
      "Train Classification Report\n",
      "                                           precision    recall  f1-score   support\n",
      "\n",
      "                   Applications Developer       0.00      0.00      0.00         1\n",
      "            Business Intelligence Analyst       0.00      0.00      0.00         0\n",
      "                 Business Systems Analyst       0.00      0.00      0.00         0\n",
      "                     CRM Business Analyst       0.00      0.00      0.00         3\n",
      "                  CRM Technical Developer       0.00      0.00      0.00         0\n",
      "                           Data Architect       0.00      0.00      0.00         0\n",
      "                   Database Administrator       0.00      0.00      0.00         7\n",
      "                       Database Developer       0.00      0.00      0.00         0\n",
      "                         Database Manager       0.00      0.00      0.00         0\n",
      "                              Design & UX       0.00      0.00      0.00         0\n",
      "                       E-Commerce Analyst       0.00      0.00      0.00         0\n",
      "             Information Security Analyst       0.00      0.00      0.00         0\n",
      "           Information Technology Auditor       0.00      0.00      0.00         0\n",
      "           Information Technology Manager       0.00      1.00      0.00         1\n",
      "            Mobile Applications Developer       0.00      0.00      0.00         1\n",
      "                         Network Engineer       0.01      0.12      0.02        59\n",
      "           Network Security Administrator       1.00      0.06      0.11     15856\n",
      "                Network Security Engineer       0.00      0.00      0.00         1\n",
      "                     Portal Administrator       0.00      0.00      0.00         0\n",
      "                       Programmer Analyst       0.00      0.05      0.01        38\n",
      "                          Project Manager       0.00      0.00      0.00         0\n",
      "              Quality Assurance Associate       0.00      0.00      0.00         0\n",
      "                       Software Developer       0.00      0.00      0.00         1\n",
      "                        Software Engineer       0.00      0.00      0.00         2\n",
      "Software Quality Assurance (QA) / Testing       0.00      0.08      0.01        24\n",
      "                Software Systems Engineer       0.00      0.50      0.00         2\n",
      "                      Solutions Architect       0.00      0.00      0.00         0\n",
      "                          Systems Analyst       0.00      0.00      0.00         4\n",
      "           Systems Security Administrator       0.00      0.00      0.00         0\n",
      "                       Technical Engineer       0.00      0.00      0.00         0\n",
      "Technical Services/Help Desk/Tech Support       0.00      0.00      0.00         0\n",
      "                        Technical Support       0.00      0.00      0.00         0\n",
      "                              UX Designer       0.00      0.00      0.00         0\n",
      "                            Web Developer       0.00      0.00      0.00         0\n",
      "\n",
      "                                 accuracy                           0.06     16000\n",
      "                                macro avg       0.03      0.05      0.00     16000\n",
      "                             weighted avg       0.99      0.06      0.11     16000\n",
      "\n",
      "Test Classification Report\n",
      "                                           precision    recall  f1-score   support\n",
      "\n",
      "                   Applications Developer       0.00      0.00      0.00         0\n",
      "            Business Intelligence Analyst       0.00      0.00      0.00         0\n",
      "                 Business Systems Analyst       0.00      0.00      0.00         0\n",
      "                     CRM Business Analyst       0.00      0.00      0.00         1\n",
      "                  CRM Technical Developer       0.00      0.00      0.00         0\n",
      "                           Data Architect       0.00      0.00      0.00         0\n",
      "                   Database Administrator       0.00      0.00      0.00         0\n",
      "                       Database Developer       0.00      0.00      0.00         0\n",
      "                         Database Manager       0.00      0.00      0.00         0\n",
      "                              Design & UX       0.00      0.00      0.00         0\n",
      "                       E-Commerce Analyst       0.00      0.00      0.00         0\n",
      "             Information Security Analyst       0.00      0.00      0.00         0\n",
      "           Information Technology Auditor       0.00      0.00      0.00         0\n",
      "           Information Technology Manager       0.00      0.00      0.00         0\n",
      "            Mobile Applications Developer       0.00      0.00      0.00         1\n",
      "                         Network Engineer       0.01      0.06      0.02        18\n",
      "           Network Security Administrator       0.99      0.05      0.10      3967\n",
      "                Network Security Engineer       0.00      0.00      0.00         0\n",
      "                     Portal Administrator       0.00      0.00      0.00         0\n",
      "                       Programmer Analyst       0.00      0.00      0.00         6\n",
      "                          Project Manager       0.00      0.00      0.00         0\n",
      "              Quality Assurance Associate       0.00      0.00      0.00         0\n",
      "                       Software Developer       0.00      0.00      0.00         0\n",
      "                        Software Engineer       0.00      0.00      0.00         0\n",
      "Software Quality Assurance (QA) / Testing       0.01      0.17      0.02         6\n",
      "                Software Systems Engineer       0.00      0.00      0.00         1\n",
      "                      Solutions Architect       0.00      0.00      0.00         0\n",
      "                          Systems Analyst       0.00      0.00      0.00         0\n",
      "           Systems Security Administrator       0.00      0.00      0.00         0\n",
      "                       Technical Engineer       0.00      0.00      0.00         0\n",
      "Technical Services/Help Desk/Tech Support       0.00      0.00      0.00         0\n",
      "                        Technical Support       0.00      0.00      0.00         0\n",
      "                              UX Designer       0.00      0.00      0.00         0\n",
      "                            Web Developer       0.00      0.00      0.00         0\n",
      "\n",
      "                                 accuracy                           0.06      4000\n",
      "                                macro avg       0.03      0.01      0.00      4000\n",
      "                             weighted avg       0.98      0.06      0.10      4000\n",
      "\n",
      "Train classwise accuracies\n",
      "[0.                nan        nan 0.                nan        nan\n",
      " 0.                nan        nan        nan        nan        nan\n",
      "        nan 1.         0.         0.11864407 0.0560671  0.\n",
      "        nan 0.05263158        nan        nan 0.         0.\n",
      " 0.08333333 0.5               nan 0.                nan        nan\n",
      "        nan        nan        nan        nan]\n",
      "Test classwise accuracies\n",
      "[       nan        nan        nan 0.                nan        nan\n",
      "        nan        nan        nan        nan        nan        nan\n",
      "        nan        nan 0.         0.05555556 0.05495337        nan\n",
      "        nan 0.                nan        nan        nan        nan\n",
      " 0.16666667 0.                nan        nan        nan        nan\n",
      "        nan        nan        nan        nan]\n"
     ]
    }
   ],
   "source": [
    "from sklearn.metrics import confusion_matrix, classification_report\n",
    "cm2_train = confusion_matrix(clf2_best.predict(X_train1),y_train1)\n",
    "cm2_test = confusion_matrix(clf2_best.predict(X_test1),y_test1)\n",
    "cm2_train_cr = classification_report(clf2_best.predict(X_train1),y_train1)\n",
    "cm2_test_cr = classification_report(clf2_best.predict(X_test1),y_test1)\n",
    "print(\"Train confusion matrix\")\n",
    "print(cm2_train)\n",
    "print(\"Test confusion matrix\")\n",
    "print(cm2_test)\n",
    "print(\"Train Classification Report\")\n",
    "print(cm2_train_cr)\n",
    "print(\"Test Classification Report\")\n",
    "print(cm2_test_cr)\n",
    "print(\"Train classwise accuracies\")\n",
    "print(cm2_train.diagonal()/cm2_train.sum(axis=1))\n",
    "print(\"Test classwise accuracies\")\n",
    "print(cm2_test.diagonal()/cm2_test.sum(axis=1))"
   ]
  },
  {
   "cell_type": "markdown",
   "id": "2c0e4bb1",
   "metadata": {},
   "source": [
    "Using Standard Scalar so as to have uniform distribution"
   ]
  },
  {
   "cell_type": "code",
   "execution_count": 14,
   "id": "a747cc62",
   "metadata": {},
   "outputs": [],
   "source": [
    "from sklearn.preprocessing import StandardScaler\n",
    "X2 = StandardScaler(with_mean=False).fit_transform(X1)\n",
    "y2 = y.copy(deep=True)"
   ]
  },
  {
   "cell_type": "code",
   "execution_count": 44,
   "id": "c919d183",
   "metadata": {},
   "outputs": [
    {
     "data": {
      "image/png": "[encoded data removed]",
      "text/plain": [
       "<Figure size 432x288 with 1 Axes>"
      ]
     },
     "metadata": {
      "needs_background": "light"
     },
     "output_type": "display_data"
    }
   ],
   "source": [
    "chart = sns.countplot(x=y2)\n",
    "chart.set_xticklabels(chart.get_xticklabels(),rotation=90)\n",
    "plt.show()"
   ]
  },
  {
   "cell_type": "code",
   "execution_count": 21,
   "id": "d0ed6495",
   "metadata": {},
   "outputs": [],
   "source": [
    "from sklearn.model_selection import train_test_split\n",
    "X_train2, X_test2, y_train2, y_test2 = train_test_split(X2,y2,test_size=0.2)"
   ]
  },
  {
   "cell_type": "code",
   "execution_count": 22,
   "id": "e29f20d0",
   "metadata": {},
   "outputs": [
    {
     "name": "stdout",
     "output_type": "stream",
     "text": [
      "{'activation': 'logistic', 'hidden_layer_sizes': (7,), 'random_state': 1, 'solver': 'sgd'}\n"
     ]
    }
   ],
   "source": [
    "from sklearn.model_selection import GridSearchCV\n",
    "clf3 = GridSearchCV(MLPClassifier(), param_grid, scoring='accuracy',n_jobs=-1)\n",
    "clf3.fit(X_train2,y_train2)\n",
    "print(clf3.best_params_)"
   ]
  },
  {
   "cell_type": "code",
   "execution_count": 38,
   "id": "220ebea3",
   "metadata": {},
   "outputs": [
    {
     "data": {
      "text/plain": [
       "MLPClassifier(activation='logistic', hidden_layer_sizes=(7,), random_state=1,\n",
       "              solver='sgd')"
      ]
     },
     "execution_count": 38,
     "metadata": {},
     "output_type": "execute_result"
    }
   ],
   "source": [
    "clf3_best = MLPClassifier(activation='logistic', hidden_layer_sizes = (7,), solver = 'sgd', random_state=1)\n",
    "clf3_best.fit(X_train2,y_train2)"
   ]
  },
  {
   "cell_type": "code",
   "execution_count": 39,
   "id": "8e8f5437",
   "metadata": {},
   "outputs": [
    {
     "name": "stdout",
     "output_type": "stream",
     "text": [
      "Training Accuracy Score:  0.0564375\n",
      "Testing Accuracy Score:  0.05275\n"
     ]
    }
   ],
   "source": [
    "print(\"Training Accuracy Score: \",accuracy_score(clf3_best.predict(X_train2),y_train2))\n",
    "print(\"Testing Accuracy Score: \",accuracy_score(clf3_best.predict(X_test2),y_test2))"
   ]
  },
  {
   "cell_type": "code",
   "execution_count": 40,
   "id": "01a3fa2e",
   "metadata": {
    "scrolled": false
   },
   "outputs": [
    {
     "name": "stdout",
     "output_type": "stream",
     "text": [
      "Train confusion matrix\n",
      "[[0 0 0 ... 0 0 0]\n",
      " [0 0 0 ... 0 0 0]\n",
      " [0 0 0 ... 0 0 0]\n",
      " ...\n",
      " [0 0 0 ... 2 0 1]\n",
      " [0 0 0 ... 0 0 0]\n",
      " [0 0 0 ... 0 0 0]]\n",
      "Test confusion matrix\n",
      "[[0 0 0 ... 0 0 0]\n",
      " [0 0 0 ... 0 0 0]\n",
      " [0 0 0 ... 0 0 0]\n",
      " ...\n",
      " [0 1 0 ... 0 0 0]\n",
      " [0 0 0 ... 0 0 0]\n",
      " [0 0 0 ... 0 0 0]]\n",
      "Train Classification Report\n",
      "                                           precision    recall  f1-score   support\n",
      "\n",
      "                   Applications Developer       0.00      0.00      0.00         0\n",
      "            Business Intelligence Analyst       0.00      0.00      0.00         0\n",
      "                 Business Systems Analyst       0.00      0.00      0.00         0\n",
      "                     CRM Business Analyst       0.00      0.00      0.00         0\n",
      "                  CRM Technical Developer       0.00      0.00      0.00         0\n",
      "                           Data Architect       0.00      0.00      0.00         0\n",
      "                   Database Administrator       0.00      0.00      0.00         0\n",
      "                       Database Developer       0.00      0.00      0.00         0\n",
      "                         Database Manager       0.00      0.00      0.00         0\n",
      "                              Design & UX       0.00      0.00      0.00         0\n",
      "                       E-Commerce Analyst       0.00      0.00      0.00         0\n",
      "             Information Security Analyst       0.00      0.00      0.00         0\n",
      "           Information Technology Auditor       0.00      0.00      0.00         0\n",
      "           Information Technology Manager       0.00      0.00      0.00         0\n",
      "            Mobile Applications Developer       0.00      0.00      0.00         0\n",
      "                         Network Engineer       0.00      0.00      0.00         0\n",
      "           Network Security Administrator       1.00      0.06      0.11     15989\n",
      "                Network Security Engineer       0.00      0.00      0.00         0\n",
      "                     Portal Administrator       0.00      0.00      0.00         0\n",
      "                       Programmer Analyst       0.00      0.00      0.00         0\n",
      "                          Project Manager       0.00      0.00      0.00         0\n",
      "              Quality Assurance Associate       0.00      0.00      0.00         0\n",
      "                       Software Developer       0.00      0.00      0.00         0\n",
      "                        Software Engineer       0.00      0.00      0.00         0\n",
      "Software Quality Assurance (QA) / Testing       0.00      0.00      0.00         0\n",
      "                Software Systems Engineer       0.00      0.00      0.00         0\n",
      "                      Solutions Architect       0.00      0.00      0.00         0\n",
      "                          Systems Analyst       0.00      0.00      0.00         0\n",
      "           Systems Security Administrator       0.00      0.00      0.00         0\n",
      "                       Technical Engineer       0.00      0.00      0.00         0\n",
      "Technical Services/Help Desk/Tech Support       0.00      0.00      0.00         0\n",
      "                        Technical Support       0.00      0.18      0.01        11\n",
      "                              UX Designer       0.00      0.00      0.00         0\n",
      "                            Web Developer       0.00      0.00      0.00         0\n",
      "\n",
      "                                 accuracy                           0.06     16000\n",
      "                                macro avg       0.03      0.01      0.00     16000\n",
      "                             weighted avg       1.00      0.06      0.11     16000\n",
      "\n",
      "Test Classification Report\n",
      "                                           precision    recall  f1-score   support\n",
      "\n",
      "                   Applications Developer       0.00      0.00      0.00         0\n",
      "            Business Intelligence Analyst       0.00      0.00      0.00         0\n",
      "                 Business Systems Analyst       0.00      0.00      0.00         0\n",
      "                     CRM Business Analyst       0.00      0.00      0.00         0\n",
      "                  CRM Technical Developer       0.00      0.00      0.00         0\n",
      "                           Data Architect       0.00      0.00      0.00         0\n",
      "                   Database Administrator       0.00      0.00      0.00         0\n",
      "                       Database Developer       0.00      0.00      0.00         0\n",
      "                         Database Manager       0.00      0.00      0.00         0\n",
      "                              Design & UX       0.00      0.00      0.00         0\n",
      "                       E-Commerce Analyst       0.00      0.00      0.00         0\n",
      "             Information Security Analyst       0.00      0.00      0.00         0\n",
      "           Information Technology Auditor       0.00      0.00      0.00         0\n",
      "           Information Technology Manager       0.00      0.00      0.00         0\n",
      "            Mobile Applications Developer       0.00      0.00      0.00         0\n",
      "                         Network Engineer       0.00      0.00      0.00         0\n",
      "           Network Security Administrator       1.00      0.05      0.10      3997\n",
      "                Network Security Engineer       0.00      0.00      0.00         0\n",
      "                     Portal Administrator       0.00      0.00      0.00         0\n",
      "                       Programmer Analyst       0.00      0.00      0.00         0\n",
      "                          Project Manager       0.00      0.00      0.00         0\n",
      "              Quality Assurance Associate       0.00      0.00      0.00         0\n",
      "                       Software Developer       0.00      0.00      0.00         0\n",
      "                        Software Engineer       0.00      0.00      0.00         0\n",
      "Software Quality Assurance (QA) / Testing       0.00      0.00      0.00         0\n",
      "                Software Systems Engineer       0.00      0.00      0.00         0\n",
      "                      Solutions Architect       0.00      0.00      0.00         0\n",
      "                          Systems Analyst       0.00      0.00      0.00         0\n",
      "           Systems Security Administrator       0.00      0.00      0.00         0\n",
      "                       Technical Engineer       0.00      0.00      0.00         0\n",
      "Technical Services/Help Desk/Tech Support       0.00      0.00      0.00         0\n",
      "                        Technical Support       0.00      0.00      0.00         3\n",
      "                              UX Designer       0.00      0.00      0.00         0\n",
      "                            Web Developer       0.00      0.00      0.00         0\n",
      "\n",
      "                                 accuracy                           0.05      4000\n",
      "                                macro avg       0.03      0.00      0.00      4000\n",
      "                             weighted avg       1.00      0.05      0.10      4000\n",
      "\n",
      "Train classwise accuracies\n",
      "[       nan        nan        nan        nan        nan        nan\n",
      "        nan        nan        nan        nan        nan        nan\n",
      "        nan        nan        nan        nan 0.05635124        nan\n",
      "        nan        nan        nan        nan        nan        nan\n",
      "        nan        nan        nan        nan        nan        nan\n",
      "        nan 0.18181818        nan        nan]\n",
      "Test classwise accuracies\n",
      "[       nan        nan        nan        nan        nan        nan\n",
      "        nan        nan        nan        nan        nan        nan\n",
      "        nan        nan        nan        nan 0.05278959        nan\n",
      "        nan        nan        nan        nan        nan        nan\n",
      "        nan        nan        nan        nan        nan        nan\n",
      "        nan 0.                nan        nan]\n"
     ]
    }
   ],
   "source": [
    "from sklearn.metrics import confusion_matrix, classification_report\n",
    "cm3_train = confusion_matrix(clf3_best.predict(X_train2),y_train2)\n",
    "cm3_test = confusion_matrix(clf3_best.predict(X_test2),y_test2)\n",
    "cm3_train_cr = classification_report(clf3_best.predict(X_train2),y_train2)\n",
    "cm3_test_cr = classification_report(clf3_best.predict(X_test2),y_test2)\n",
    "print(\"Train confusion matrix\")\n",
    "print(cm3_train)\n",
    "print(\"Test confusion matrix\")\n",
    "print(cm3_test)\n",
    "print(\"Train Classification Report\")\n",
    "print(cm3_train_cr)\n",
    "print(\"Test Classification Report\")\n",
    "print(cm3_test_cr)\n",
    "print(\"Train classwise accuracies\")\n",
    "print(cm3_train.diagonal()/cm3_train.sum(axis=1))\n",
    "print(\"Test classwise accuracies\")\n",
    "print(cm3_test.diagonal()/cm3_test.sum(axis=1))"
   ]
  },
  {
   "cell_type": "markdown",
   "id": "dba58e13",
   "metadata": {},
   "source": [
    "Now transforming data as shown under:"
   ]
  },
  {
   "cell_type": "markdown",
   "id": "6a27c0d0",
   "metadata": {},
   "source": [
    "* 'Solutions Architect'  'Data Architect' 'Information Technology Auditor' --> others\n",
    "* 'CRM Business Analyst' 'CRM Technical Developer' 'Project Manager' 'Information Technology Manager' --> Managerial roles/ CRM\n",
    "* 'Business Systems Analyst' 'Business Intelligence Analyst''E-Commerce Analyst'--> Analyst \n",
    "* 'Mobile Applications Developer' 'Web Developer''Applications Developer'   --> Mobile Applications/ Web Development\n",
    "* 'Software Quality Assurance (QA) / Testing' 'Quality Assurance Associate' --> QA/Testing\n",
    "* 'UX Designer' 'Design & UX' --> UX/Design\n",
    "* 'Database Developer' 'Database Administrator' 'Database Manager' 'Portal Administrator' --> Databases\n",
    "* 'Programmer Analyst' 'Systems Analyst'--> Programming/ Systems Analyst\n",
    "* 'Network Security Administrator' 'Network Security Engineer' 'Network Engineer''Systems Security Administrator' 'Software Systems Engineer''Information Security Analyst' --> Networks/ Systems\n",
    "* 'Software Engineer' 'Software Developer' --> SE/SDE\n",
    "* 'Technical Engineer' 'Technical Services/Help Desk/Tech Support' 'Technical Support'--> Technical Support/Service"
   ]
  },
  {
   "cell_type": "code",
   "execution_count": 15,
   "id": "18ead2bd",
   "metadata": {},
   "outputs": [
    {
     "data": {
      "text/plain": [
       "0                               Database Developer\n",
       "1                             Portal Administrator\n",
       "2                             Portal Administrator\n",
       "3                   Systems Security Administrator\n",
       "4                         Business Systems Analyst\n",
       "                           ...                    \n",
       "19995                           Technical Engineer\n",
       "19996                           E-Commerce Analyst\n",
       "19997                Business Intelligence Analyst\n",
       "19998    Software Quality Assurance (QA) / Testing\n",
       "19999                       Applications Developer\n",
       "Name: Suggested Job Role, Length: 20000, dtype: object"
      ]
     },
     "execution_count": 15,
     "metadata": {},
     "output_type": "execute_result"
    }
   ],
   "source": [
    "y_trans = y.copy(deep=True)\n",
    "y_trans"
   ]
  },
  {
   "cell_type": "code",
   "execution_count": 16,
   "id": "ddcab40f",
   "metadata": {},
   "outputs": [
    {
     "data": {
      "text/plain": [
       "0                                   Databases\n",
       "1                                   Databases\n",
       "2                                   Databases\n",
       "3                           Networks/ Systems\n",
       "4                                     Analyst\n",
       "                         ...                 \n",
       "19995               Technical Support/Service\n",
       "19996                                 Analyst\n",
       "19997                                 Analyst\n",
       "19998                              QA/Testing\n",
       "19999    Mobile Applications/ Web Development\n",
       "Name: Suggested Job Role, Length: 20000, dtype: object"
      ]
     },
     "execution_count": 16,
     "metadata": {},
     "output_type": "execute_result"
    }
   ],
   "source": [
    "y_trans = y_trans.replace(['CRM Business Analyst','CRM Technical Developer','Project Manager',\n",
    "                    'Information Technology Manager'],'CRM/Managerial Roles')\n",
    "y_trans = y_trans.replace(['Business Systems Analyst','Business Intelligence Analyst','E-Commerce Analyst'],'Analyst')\n",
    "y_trans = y_trans.replace(['Mobile Applications Developer','Web Developer',\n",
    "                    'Applications Developer'],'Mobile Applications/ Web Development')\n",
    "y_trans = y_trans.replace(['Software Quality Assurance (QA) / Testing','Quality Assurance Associate'],'QA/Testing')\n",
    "y_trans = y_trans.replace(['UX Designer','Design & UX'] , 'UX/Design')\n",
    "y_trans = y_trans.replace(['Database Developer','Database Administrator',\n",
    "                    'Database Manager','Portal Administrator'] , 'Databases')\n",
    "y_trans = y_trans.replace(['Programmer Analyst','Systems Analyst'],'Programming/ Systems Analyst')\n",
    "y_trans = y_trans.replace(['Network Security Administrator','Network Security Engineer',\n",
    "                    'Network Engineer','Systems Security Administrator',\n",
    "                    'Software Systems Engineer','Information Security Analyst'],'Networks/ Systems')\n",
    "y_trans = y_trans.replace(['Software Engineer','Software Developer'] ,'SE/SDE')\n",
    "y_trans = y_trans.replace(['Technical Engineer','Technical Services/Help Desk/Tech Support',\n",
    "                    'Technical Support'],'Technical Support/Service')\n",
    "y_trans = y_trans.replace(['Solutions Architect','Data Architect','Information Technology Auditor'],'others')\n",
    "y_trans"
   ]
  },
  {
   "cell_type": "code",
   "execution_count": 41,
   "id": "a1c1aa85",
   "metadata": {},
   "outputs": [
    {
     "name": "stdout",
     "output_type": "stream",
     "text": [
      "{'activation': 'logistic', 'hidden_layer_sizes': (16, 16), 'random_state': 1, 'solver': 'sgd'}\n"
     ]
    }
   ],
   "source": [
    "X_train_m, X_test_m, y_train_m, y_test_m = train_test_split(X2,y_trans,test_size=0.2)\n",
    "clf4 = GridSearchCV(MLPClassifier(), param_grid, scoring='accuracy',n_jobs=-1)\n",
    "clf4.fit(X_train_m,y_train_m)\n",
    "print(clf4.best_params_)"
   ]
  },
  {
   "cell_type": "code",
   "execution_count": 42,
   "id": "940bed45",
   "metadata": {},
   "outputs": [
    {
     "data": {
      "image/png": "[encoded data removed]",
      "text/plain": [
       "<Figure size 432x288 with 1 Axes>"
      ]
     },
     "metadata": {
      "needs_background": "light"
     },
     "output_type": "display_data"
    }
   ],
   "source": [
    "chart = sns.countplot(x=y_trans)\n",
    "chart.set_xticklabels(chart.get_xticklabels(),rotation=90)\n",
    "plt.show()"
   ]
  },
  {
   "cell_type": "code",
   "execution_count": 45,
   "id": "c0bcde41",
   "metadata": {},
   "outputs": [
    {
     "data": {
      "text/plain": [
       "MLPClassifier(activation='logistic', hidden_layer_sizes=(16, 16),\n",
       "              random_state=1, solver='sgd')"
      ]
     },
     "execution_count": 45,
     "metadata": {},
     "output_type": "execute_result"
    }
   ],
   "source": [
    "clf4_best = MLPClassifier(activation='logistic', hidden_layer_sizes = (16,16), solver = 'sgd', random_state=1)\n",
    "clf4_best.fit(X_train_m,y_train_m)"
   ]
  },
  {
   "cell_type": "code",
   "execution_count": 46,
   "id": "462689ef",
   "metadata": {},
   "outputs": [
    {
     "name": "stdout",
     "output_type": "stream",
     "text": [
      "Training Accuracy Score:  0.201\n",
      "Testing Accuracy Score:  0.20675\n"
     ]
    }
   ],
   "source": [
    "print(\"Training Accuracy Score: \",accuracy_score(clf4_best.predict(X_train_m),y_train_m))\n",
    "print(\"Testing Accuracy Score: \",accuracy_score(clf4_best.predict(X_test_m),y_test_m))"
   ]
  },
  {
   "cell_type": "code",
   "execution_count": 47,
   "id": "bdebe129",
   "metadata": {},
   "outputs": [
    {
     "name": "stdout",
     "output_type": "stream",
     "text": [
      "Train confusion matrix\n",
      "[[   0    0    0    0    0    0    0    0    0    0    0]\n",
      " [   0    0    0    0    0    0    0    0    0    0    0]\n",
      " [   0    0    0    0    0    0    0    0    0    0    0]\n",
      " [   0    0    0    0    0    0    0    0    0    0    0]\n",
      " [1329 1876 1869 1334 3216  875  917  935 1356  934 1359]\n",
      " [   0    0    0    0    0    0    0    0    0    0    0]\n",
      " [   0    0    0    0    0    0    0    0    0    0    0]\n",
      " [   0    0    0    0    0    0    0    0    0    0    0]\n",
      " [   0    0    0    0    0    0    0    0    0    0    0]\n",
      " [   0    0    0    0    0    0    0    0    0    0    0]\n",
      " [   0    0    0    0    0    0    0    0    0    0    0]]\n",
      "Test confusion matrix\n",
      "[[  0   0   0   0   0   0   0   0   0   0   0]\n",
      " [  0   0   0   0   0   0   0   0   0   0   0]\n",
      " [  0   0   0   0   0   0   0   0   0   0   0]\n",
      " [  0   0   0   0   0   0   0   0   0   0   0]\n",
      " [339 468 468 325 827 204 219 242 324 243 341]\n",
      " [  0   0   0   0   0   0   0   0   0   0   0]\n",
      " [  0   0   0   0   0   0   0   0   0   0   0]\n",
      " [  0   0   0   0   0   0   0   0   0   0   0]\n",
      " [  0   0   0   0   0   0   0   0   0   0   0]\n",
      " [  0   0   0   0   0   0   0   0   0   0   0]\n",
      " [  0   0   0   0   0   0   0   0   0   0   0]]\n",
      "Train Classification Report\n",
      "                                      precision    recall  f1-score   support\n",
      "\n",
      "                             Analyst       0.00      0.00      0.00         0\n",
      "                CRM/Managerial Roles       0.00      0.00      0.00         0\n",
      "                           Databases       0.00      0.00      0.00         0\n",
      "Mobile Applications/ Web Development       0.00      0.00      0.00         0\n",
      "                   Networks/ Systems       1.00      0.20      0.33     16000\n",
      "        Programming/ Systems Analyst       0.00      0.00      0.00         0\n",
      "                          QA/Testing       0.00      0.00      0.00         0\n",
      "                              SE/SDE       0.00      0.00      0.00         0\n",
      "           Technical Support/Service       0.00      0.00      0.00         0\n",
      "                           UX/Design       0.00      0.00      0.00         0\n",
      "                              others       0.00      0.00      0.00         0\n",
      "\n",
      "                            accuracy                           0.20     16000\n",
      "                           macro avg       0.09      0.02      0.03     16000\n",
      "                        weighted avg       1.00      0.20      0.33     16000\n",
      "\n",
      "Test Classification Report\n",
      "                                      precision    recall  f1-score   support\n",
      "\n",
      "                             Analyst       0.00      0.00      0.00         0\n",
      "                CRM/Managerial Roles       0.00      0.00      0.00         0\n",
      "                           Databases       0.00      0.00      0.00         0\n",
      "Mobile Applications/ Web Development       0.00      0.00      0.00         0\n",
      "                   Networks/ Systems       1.00      0.21      0.34      4000\n",
      "        Programming/ Systems Analyst       0.00      0.00      0.00         0\n",
      "                          QA/Testing       0.00      0.00      0.00         0\n",
      "                              SE/SDE       0.00      0.00      0.00         0\n",
      "           Technical Support/Service       0.00      0.00      0.00         0\n",
      "                           UX/Design       0.00      0.00      0.00         0\n",
      "                              others       0.00      0.00      0.00         0\n",
      "\n",
      "                            accuracy                           0.21      4000\n",
      "                           macro avg       0.09      0.02      0.03      4000\n",
      "                        weighted avg       1.00      0.21      0.34      4000\n",
      "\n",
      "Train classwise accuracies\n",
      "[  nan   nan   nan   nan 0.201   nan   nan   nan   nan   nan   nan]\n",
      "Test classwise accuracies\n",
      "[    nan     nan     nan     nan 0.20675     nan     nan     nan     nan\n",
      "     nan     nan]\n"
     ]
    }
   ],
   "source": [
    "from sklearn.metrics import confusion_matrix, classification_report\n",
    "cm4_train = confusion_matrix(clf4_best.predict(X_train_m),y_train_m)\n",
    "cm4_test = confusion_matrix(clf4_best.predict(X_test_m),y_test_m)\n",
    "cm4_train_cr = classification_report(clf4_best.predict(X_train_m),y_train_m)\n",
    "cm4_test_cr = classification_report(clf4_best.predict(X_test_m),y_test_m)\n",
    "print(\"Train confusion matrix\")\n",
    "print(cm4_train)\n",
    "print(\"Test confusion matrix\")\n",
    "print(cm4_test)\n",
    "print(\"Train Classification Report\")\n",
    "print(cm4_train_cr)\n",
    "print(\"Test Classification Report\")\n",
    "print(cm4_test_cr)\n",
    "print(\"Train classwise accuracies\")\n",
    "print(cm4_train.diagonal()/cm4_train.sum(axis=1))\n",
    "print(\"Test classwise accuracies\")\n",
    "print(cm4_test.diagonal()/cm4_test.sum(axis=1))"
   ]
  },
  {
   "cell_type": "markdown",
   "id": "8ecdbd0c",
   "metadata": {},
   "source": [
    "After performing Oversampling "
   ]
  },
  {
   "cell_type": "code",
   "execution_count": 17,
   "id": "8c99ab7d",
   "metadata": {},
   "outputs": [],
   "source": [
    "from scipy import sparse\n",
    "X3 = sparse.csr_matrix.copy(X2)\n",
    "y3 = y_trans.copy(deep=True)"
   ]
  },
  {
   "cell_type": "code",
   "execution_count": 18,
   "id": "354934f5",
   "metadata": {},
   "outputs": [],
   "source": [
    "from imblearn.over_sampling import RandomOverSampler\n",
    "ros = RandomOverSampler(random_state=42)\n",
    "X_ovs, y_ovs = ros.fit_resample(X3, y3)"
   ]
  },
  {
   "cell_type": "code",
   "execution_count": 24,
   "id": "317cc7cf",
   "metadata": {},
   "outputs": [
    {
     "data": {
      "image/png": "[encoded data removed]",
      "text/plain": [
       "<Figure size 432x288 with 1 Axes>"
      ]
     },
     "metadata": {
      "needs_background": "light"
     },
     "output_type": "display_data"
    }
   ],
   "source": [
    "chart = sns.countplot(x=y_ovs)\n",
    "chart.set_xticklabels(chart.get_xticklabels(),rotation=90)\n",
    "plt.show()"
   ]
  },
  {
   "cell_type": "code",
   "execution_count": 19,
   "id": "13c34e6a",
   "metadata": {},
   "outputs": [],
   "source": [
    "from sklearn.model_selection import train_test_split\n",
    "X_train5, X_test5, y_train5, y_test5 = train_test_split(X_ovs,y_ovs,test_size=0.2)"
   ]
  },
  {
   "cell_type": "code",
   "execution_count": 52,
   "id": "18695a98",
   "metadata": {},
   "outputs": [
    {
     "name": "stdout",
     "output_type": "stream",
     "text": [
      "{'activation': 'tanh', 'hidden_layer_sizes': (28, 28, 28), 'random_state': 1, 'solver': 'adam'}\n"
     ]
    }
   ],
   "source": [
    "from sklearn.model_selection import GridSearchCV\n",
    "clf5 = GridSearchCV(MLPClassifier(), param_grid, scoring='accuracy',n_jobs=-1)\n",
    "clf5.fit(X_train5,y_train5)\n",
    "print(clf5.best_params_)"
   ]
  },
  {
   "cell_type": "code",
   "execution_count": 53,
   "id": "1f81be2c",
   "metadata": {},
   "outputs": [
    {
     "data": {
      "text/plain": [
       "MLPClassifier(activation='tanh', hidden_layer_sizes=(28, 28, 28),\n",
       "              random_state=1)"
      ]
     },
     "execution_count": 53,
     "metadata": {},
     "output_type": "execute_result"
    }
   ],
   "source": [
    "clf5_best = MLPClassifier(activation='tanh', hidden_layer_sizes = (28,28,28), solver = 'adam', random_state=1)\n",
    "clf5_best.fit(X_train5,y_train5)"
   ]
  },
  {
   "cell_type": "code",
   "execution_count": 54,
   "id": "98f786dc",
   "metadata": {},
   "outputs": [
    {
     "name": "stdout",
     "output_type": "stream",
     "text": [
      "Training Accuracy Score:  0.8145483163752881\n",
      "Testing Accuracy Score:  0.6382237211916807\n"
     ]
    }
   ],
   "source": [
    "print(\"Training Accuracy Score: \",accuracy_score(clf5_best.predict(X_train5),y_train5))\n",
    "print(\"Testing Accuracy Score: \",accuracy_score(clf5_best.predict(X_test5),y_test5))"
   ]
  },
  {
   "cell_type": "code",
   "execution_count": 27,
   "id": "71141a12",
   "metadata": {},
   "outputs": [],
   "source": [
    "from sklearn.metrics import classification_report, confusion_matrix, accuracy_score\n",
    "from sklearn.neural_network import MLPClassifier"
   ]
  },
  {
   "cell_type": "code",
   "execution_count": 28,
   "id": "179ac9fb",
   "metadata": {},
   "outputs": [
    {
     "name": "stdout",
     "output_type": "stream",
     "text": [
      "Training Accuracy Score:  0.9829107875653493\n",
      "Testing Accuracy Score:  0.7743676222596965\n"
     ]
    }
   ],
   "source": [
    "clf5_try2 = MLPClassifier(activation='tanh', hidden_layer_sizes = (44,44,44), solver = 'adam', random_state=1)\n",
    "clf5_try2.fit(X_train5,y_train5)\n",
    "print(\"Training Accuracy Score: \",accuracy_score(clf5_try2.predict(X_train5),y_train5))\n",
    "print(\"Testing Accuracy Score: \",accuracy_score(clf5_try2.predict(X_test5),y_test5))"
   ]
  },
  {
   "cell_type": "code",
   "execution_count": 79,
   "id": "b6585ad7",
   "metadata": {},
   "outputs": [
    {
     "name": "stdout",
     "output_type": "stream",
     "text": [
      "Training Accuracy Score:  0.998144921018607\n",
      "Testing Accuracy Score:  0.7827993254637436\n"
     ]
    }
   ],
   "source": [
    "clf5_try3 = MLPClassifier(activation='tanh', hidden_layer_sizes = (47,47,47), solver = 'adam', random_state=1)\n",
    "clf5_try3.fit(X_train5,y_train5)\n",
    "print(\"Training Accuracy Score: \",accuracy_score(clf5_try3.predict(X_train5),y_train5))\n",
    "print(\"Testing Accuracy Score: \",accuracy_score(clf5_try3.predict(X_test5),y_test5))"
   ]
  },
  {
   "cell_type": "code",
   "execution_count": 80,
   "id": "ef565eb5",
   "metadata": {},
   "outputs": [
    {
     "name": "stdout",
     "output_type": "stream",
     "text": [
      "Training Accuracy Score:  0.9986789589071898\n",
      "Testing Accuracy Score:  0.7845980888139404\n"
     ]
    }
   ],
   "source": [
    "clf5_try4 = MLPClassifier(activation='tanh', hidden_layer_sizes = (50,50,50), solver = 'adam', random_state=1)\n",
    "clf5_try4.fit(X_train5,y_train5)\n",
    "print(\"Training Accuracy Score: \",accuracy_score(clf5_try4.predict(X_train5),y_train5))\n",
    "print(\"Testing Accuracy Score: \",accuracy_score(clf5_try4.predict(X_test5),y_test5))"
   ]
  },
  {
   "cell_type": "code",
   "execution_count": 83,
   "id": "568996e9",
   "metadata": {},
   "outputs": [
    {
     "name": "stdout",
     "output_type": "stream",
     "text": [
      "Train confusion matrix\n",
      "[[3217    0    0    0    0    0    0    0    0    0    0]\n",
      " [   0 3186    3    0    8    0    0    0    0    1    0]\n",
      " [   0    3 3252    0    1    0    1    0    0    0    0]\n",
      " [   0    0    0 3237    2    0    0    0    1    0    0]\n",
      " [   0    5    6    0 3193    0    0    0    1    0    2]\n",
      " [   0    0    0    0    0 3219    0    0    0    0    0]\n",
      " [   0    0    0    0    2    0 3254    0    0    0    0]\n",
      " [   0    1    1    0    1    0    0 3250    0    0    1]\n",
      " [   0    0    0    0    3    0    0    0 3264    0    0]\n",
      " [   0    0    0    0    1    0    0    0    0 3200    0]\n",
      " [   0    0    0    0    3    0    0    0    0    0 3259]]\n",
      "Test confusion matrix\n",
      "[[692  33  15   8  77   2   5   3  15   1  16]\n",
      " [ 18 572  28  17 104   4   8   3  14   4  25]\n",
      " [ 16  34 517  14  78   2   4   5   7   5  10]\n",
      " [  2  32  27 686  71   5   6   5  18   3   4]\n",
      " [ 27  45  50  18 117   2   9   5  28   9  13]\n",
      " [  8  23  23  10  50 791   2   5  11   3   9]\n",
      " [ 10  22  18   6  62   5 738   5   6   5   8]\n",
      " [ 16  27  31  13  51   4   5 752  10   3   7]\n",
      " [ 12  23  29   8  74   3   2   1 652   7  12]\n",
      " [ 12  15  19  13  60   1   0   0   7 798  13]\n",
      " [ 13  22  24  13  85   5   9   9   9   4 664]]\n",
      "Train Classification Report\n",
      "                                      precision    recall  f1-score   support\n",
      "\n",
      "                             Analyst       1.00      1.00      1.00      3217\n",
      "                CRM/Managerial Roles       1.00      1.00      1.00      3198\n",
      "                           Databases       1.00      1.00      1.00      3257\n",
      "Mobile Applications/ Web Development       1.00      1.00      1.00      3240\n",
      "                   Networks/ Systems       0.99      1.00      0.99      3207\n",
      "        Programming/ Systems Analyst       1.00      1.00      1.00      3219\n",
      "                          QA/Testing       1.00      1.00      1.00      3256\n",
      "                              SE/SDE       1.00      1.00      1.00      3254\n",
      "           Technical Support/Service       1.00      1.00      1.00      3267\n",
      "                           UX/Design       1.00      1.00      1.00      3201\n",
      "                              others       1.00      1.00      1.00      3262\n",
      "\n",
      "                            accuracy                           1.00     35578\n",
      "                           macro avg       1.00      1.00      1.00     35578\n",
      "                        weighted avg       1.00      1.00      1.00     35578\n",
      "\n",
      "Test Classification Report\n",
      "                                      precision    recall  f1-score   support\n",
      "\n",
      "                             Analyst       0.84      0.80      0.82       867\n",
      "                CRM/Managerial Roles       0.67      0.72      0.70       797\n",
      "                           Databases       0.66      0.75      0.70       692\n",
      "Mobile Applications/ Web Development       0.85      0.80      0.82       859\n",
      "                   Networks/ Systems       0.14      0.36      0.20       323\n",
      "        Programming/ Systems Analyst       0.96      0.85      0.90       935\n",
      "                          QA/Testing       0.94      0.83      0.88       885\n",
      "                              SE/SDE       0.95      0.82      0.88       919\n",
      "           Technical Support/Service       0.84      0.79      0.82       823\n",
      "                           UX/Design       0.95      0.85      0.90       938\n",
      "                              others       0.85      0.77      0.81       857\n",
      "\n",
      "                            accuracy                           0.78      8895\n",
      "                           macro avg       0.79      0.76      0.77      8895\n",
      "                        weighted avg       0.83      0.78      0.80      8895\n",
      "\n",
      "Train classwise accuracies\n",
      "[1.         0.99624765 0.99846484 0.99907407 0.99563455 1.\n",
      " 0.99938575 0.99877074 0.99908173 0.9996876  0.99908032]\n",
      "Test classwise accuracies\n",
      "[0.79815456 0.71769134 0.74710983 0.79860303 0.3622291  0.8459893\n",
      " 0.83389831 0.81828074 0.79222357 0.85074627 0.7747958 ]\n"
     ]
    }
   ],
   "source": [
    "from sklearn.metrics import confusion_matrix, classification_report\n",
    "cm5_train = confusion_matrix(clf5_try4.predict(X_train5),y_train5)\n",
    "cm5_test = confusion_matrix(clf5_try4.predict(X_test5),y_test5)\n",
    "cm5_train_cr = classification_report(clf5_try4.predict(X_train5),y_train5)\n",
    "cm5_test_cr = classification_report(clf5_try4.predict(X_test5),y_test5)\n",
    "print(\"Train confusion matrix\")\n",
    "print(cm5_train)\n",
    "print(\"Test confusion matrix\")\n",
    "print(cm5_test)\n",
    "print(\"Train Classification Report\")\n",
    "print(cm5_train_cr)\n",
    "print(\"Test Classification Report\")\n",
    "print(cm5_test_cr)\n",
    "print(\"Train classwise accuracies\")\n",
    "print(cm5_train.diagonal()/cm5_train.sum(axis=1))\n",
    "print(\"Test classwise accuracies\")\n",
    "print(cm5_test.diagonal()/cm5_test.sum(axis=1))"
   ]
  },
  {
   "cell_type": "markdown",
   "id": "0f42c37d",
   "metadata": {},
   "source": [
    "Trying different splits"
   ]
  },
  {
   "cell_type": "code",
   "execution_count": 29,
   "id": "a03a68ae",
   "metadata": {},
   "outputs": [],
   "source": [
    "from sklearn.model_selection import train_test_split\n",
    "X_trains, X_tests, y_trains, y_tests = train_test_split(X_ovs,y_ovs,test_size=0.3)"
   ]
  },
  {
   "cell_type": "code",
   "execution_count": 30,
   "id": "143428fa",
   "metadata": {},
   "outputs": [
    {
     "name": "stdout",
     "output_type": "stream",
     "text": [
      "Training Accuracy Score:  0.9967556454980566\n",
      "Testing Accuracy Score:  0.7545345525408484\n"
     ]
    }
   ],
   "source": [
    "clf5_try1 = MLPClassifier(activation='tanh', hidden_layer_sizes = (44,44,44), solver = 'adam', random_state=1)\n",
    "clf5_try1.fit(X_trains,y_trains)\n",
    "print(\"Training Accuracy Score: \",accuracy_score(clf5_try1.predict(X_trains),y_trains))\n",
    "print(\"Testing Accuracy Score: \",accuracy_score(clf5_try1.predict(X_tests),y_tests))"
   ]
  },
  {
   "cell_type": "code",
   "execution_count": 31,
   "id": "7e38cefa",
   "metadata": {},
   "outputs": [],
   "source": [
    "from sklearn.model_selection import train_test_split\n",
    "X_trainss, X_testss, y_trainss, y_testss = train_test_split(X_ovs,y_ovs,test_size=0.25)"
   ]
  },
  {
   "cell_type": "code",
   "execution_count": 32,
   "id": "ed185642",
   "metadata": {},
   "outputs": [
    {
     "name": "stdout",
     "output_type": "stream",
     "text": [
      "Training Accuracy Score:  0.9966720633207411\n",
      "Testing Accuracy Score:  0.7675150643043439\n"
     ]
    }
   ],
   "source": [
    "clf5_try11 = MLPClassifier(activation='tanh', hidden_layer_sizes = (44,44,44), solver = 'adam', random_state=1)\n",
    "clf5_try11.fit(X_trainss,y_trainss)\n",
    "print(\"Training Accuracy Score: \",accuracy_score(clf5_try11.predict(X_trainss),y_trainss))\n",
    "print(\"Testing Accuracy Score: \",accuracy_score(clf5_try11.predict(X_testss),y_testss))"
   ]
  },
  {
   "cell_type": "code",
   "execution_count": 33,
   "id": "65484449",
   "metadata": {},
   "outputs": [
    {
     "name": "stdout",
     "output_type": "stream",
     "text": [
      "Training Accuracy Score:  0.9982011018251321\n",
      "Testing Accuracy Score:  0.7189432265317595\n"
     ]
    }
   ],
   "source": [
    "from sklearn.model_selection import train_test_split\n",
    "X_trainsss, X_testsss, y_trainsss, y_testsss = train_test_split(X_ovs,y_ovs,test_size=0.4)\n",
    "clf5_try111 = MLPClassifier(activation='tanh', hidden_layer_sizes = ((44,44,44)), solver = 'adam', random_state=1)\n",
    "clf5_try111.fit(X_trainsss,y_trainsss)\n",
    "print(\"Training Accuracy Score: \",accuracy_score(clf5_try111.predict(X_trainsss),y_trainsss))\n",
    "print(\"Testing Accuracy Score: \",accuracy_score(clf5_try111.predict(X_testsss),y_testsss))"
   ]
  },
  {
   "cell_type": "code",
   "execution_count": 34,
   "id": "7da36970",
   "metadata": {},
   "outputs": [
    {
     "name": "stdout",
     "output_type": "stream",
     "text": [
      "Training Accuracy Score:  0.9313179262960649\n",
      "Testing Accuracy Score:  0.7486510791366906\n"
     ]
    }
   ],
   "source": [
    "from sklearn.model_selection import train_test_split\n",
    "X_trainsss, X_testsss, y_trainsss, y_testsss = train_test_split(X_ovs,y_ovs,test_size=0.1)\n",
    "clf5_try111 = MLPClassifier(activation='tanh', hidden_layer_sizes = (44,44,44), solver = 'adam', random_state=1)\n",
    "clf5_try111.fit(X_trainsss,y_trainsss)\n",
    "print(\"Training Accuracy Score: \",accuracy_score(clf5_try111.predict(X_trainsss),y_trainsss))\n",
    "print(\"Testing Accuracy Score: \",accuracy_score(clf5_try111.predict(X_testsss),y_testsss))"
   ]
  },
  {
   "cell_type": "code",
   "execution_count": 22,
   "id": "f2a1d50f",
   "metadata": {},
   "outputs": [
    {
     "name": "stdout",
     "output_type": "stream",
     "text": [
      "Training Accuracy Score:  0.9506110787789006\n",
      "Testing Accuracy Score:  0.7609054114825363\n"
     ]
    }
   ],
   "source": [
    "from sklearn.model_selection import train_test_split\n",
    "from sklearn.metrics import accuracy_score\n",
    "from sklearn.neural_network import MLPClassifier\n",
    "X_trainn, X_testn, y_trainn, y_testn = train_test_split(X_ovs,y_ovs,test_size=0.15)\n",
    "clf5_tryn = MLPClassifier(activation='tanh', hidden_layer_sizes = (44,44,44), solver = 'adam', random_state=1)\n",
    "clf5_tryn.fit(X_trainn,y_trainn)\n",
    "print(\"Training Accuracy Score: \",accuracy_score(clf5_tryn.predict(X_trainn),y_trainn))\n",
    "print(\"Testing Accuracy Score: \",accuracy_score(clf5_tryn.predict(X_testn),y_testn))"
   ]
  },
  {
   "cell_type": "code",
   "execution_count": 23,
   "id": "009daf70",
   "metadata": {},
   "outputs": [],
   "source": [
    "pickle.dump(clf5_tryn, open(\"final_model.sav\", 'wb'))"
   ]
  },
  {
   "cell_type": "code",
   "execution_count": 36,
   "id": "8b5bcc57",
   "metadata": {},
   "outputs": [
    {
     "data": {
      "text/plain": [
       "(44473, 470)"
      ]
     },
     "execution_count": 36,
     "metadata": {},
     "output_type": "execute_result"
    }
   ],
   "source": [
    "X_ovs.shape"
   ]
  },
  {
   "cell_type": "markdown",
   "id": "be3f67d4",
   "metadata": {},
   "source": [
    "Further Clubbing the output labels"
   ]
  },
  {
   "cell_type": "code",
   "execution_count": 59,
   "id": "a21edaf8",
   "metadata": {},
   "outputs": [
    {
     "data": {
      "text/plain": [
       "0                                   Databases\n",
       "1                                   Databases\n",
       "2                                   Databases\n",
       "3                           Networks/ Systems\n",
       "4                                     Analyst\n",
       "                         ...                 \n",
       "19995               Technical Support/Service\n",
       "19996                                 Analyst\n",
       "19997                                 Analyst\n",
       "19998                              QA/Testing\n",
       "19999    Mobile Applications/ Web Development\n",
       "Name: Suggested Job Role, Length: 20000, dtype: object"
      ]
     },
     "execution_count": 59,
     "metadata": {},
     "output_type": "execute_result"
    }
   ],
   "source": [
    "y_trans_new = y_trans.copy(deep=True)\n",
    "y_trans_new"
   ]
  },
  {
   "cell_type": "code",
   "execution_count": 60,
   "id": "7ed5c678",
   "metadata": {},
   "outputs": [
    {
     "data": {
      "image/png": "[encoded data removed]",
      "text/plain": [
       "<Figure size 432x288 with 1 Axes>"
      ]
     },
     "metadata": {
      "needs_background": "light"
     },
     "output_type": "display_data"
    }
   ],
   "source": [
    "chart = sns.countplot(x=y_trans_new)\n",
    "chart.set_xticklabels(chart.get_xticklabels(),rotation=90)\n",
    "plt.show()"
   ]
  },
  {
   "cell_type": "code",
   "execution_count": 61,
   "id": "be80a2bb",
   "metadata": {},
   "outputs": [
    {
     "data": {
      "text/plain": [
       "0                                   Databases\n",
       "1                                   Databases\n",
       "2                                   Databases\n",
       "3                           Networks/ Systems\n",
       "4                Analyst/CRM/Managerial Roles\n",
       "                         ...                 \n",
       "19995                                  others\n",
       "19996            Analyst/CRM/Managerial Roles\n",
       "19997            Analyst/CRM/Managerial Roles\n",
       "19998                 UX/Design or QA/testing\n",
       "19999    Mobile Applications/ Web Development\n",
       "Name: Suggested Job Role, Length: 20000, dtype: object"
      ]
     },
     "execution_count": 61,
     "metadata": {},
     "output_type": "execute_result"
    }
   ],
   "source": [
    "y_trans_new = y_trans_new.replace(['Programming/ Systems Analyst'],'Analyst')\n",
    "y_trans_new = y_trans_new.replace(['Analyst','CRM/Managerial Roles'],'Analyst/CRM/Managerial Roles')\n",
    "y_trans_new = y_trans_new.replace(['UX/Design','QA/Testing'],'UX/Design or QA/testing')\n",
    "y_trans_new = y_trans_new.replace(['Technical Support/Service'] , 'others')\n",
    "y_trans_new"
   ]
  },
  {
   "cell_type": "code",
   "execution_count": 62,
   "id": "90e44a7d",
   "metadata": {},
   "outputs": [
    {
     "data": {
      "image/png": "[encoded data removed]",
      "text/plain": [
       "<Figure size 432x288 with 1 Axes>"
      ]
     },
     "metadata": {
      "needs_background": "light"
     },
     "output_type": "display_data"
    }
   ],
   "source": [
    "chart = sns.countplot(x=y_trans_new)\n",
    "chart.set_xticklabels(chart.get_xticklabels(),rotation=90)\n",
    "plt.show()"
   ]
  },
  {
   "cell_type": "code",
   "execution_count": 63,
   "id": "a33909ef",
   "metadata": {},
   "outputs": [],
   "source": [
    "from imblearn.over_sampling import RandomOverSampler\n",
    "ros = RandomOverSampler(random_state=42)\n",
    "X_ovs_new, y_ovs_new = ros.fit_resample(X3, y_trans_new)"
   ]
  },
  {
   "cell_type": "code",
   "execution_count": 64,
   "id": "481b0651",
   "metadata": {},
   "outputs": [
    {
     "data": {
      "image/png": "[encoded data removed]",
      "text/plain": [
       "<Figure size 432x288 with 1 Axes>"
      ]
     },
     "metadata": {
      "needs_background": "light"
     },
     "output_type": "display_data"
    }
   ],
   "source": [
    "chart = sns.countplot(x=y_ovs_new)\n",
    "chart.set_xticklabels(chart.get_xticklabels(),rotation=90)\n",
    "plt.show()"
   ]
  },
  {
   "cell_type": "code",
   "execution_count": 65,
   "id": "dc4ef2f7",
   "metadata": {},
   "outputs": [],
   "source": [
    "param_grid = [\n",
    "        {\n",
    "            'random_state': [1],\n",
    "            'activation' : ['tanh'],\n",
    "            'solver' : ['adam'],\n",
    "            'hidden_layer_sizes': [\n",
    "               (33,33,33),(37,37,37),\n",
    "               (33,),(37,),(33,33,33,33),\n",
    "               (37,37,37,37),(16,),(42,)\n",
    "             ]\n",
    "        }\n",
    "       ]"
   ]
  },
  {
   "cell_type": "code",
   "execution_count": 66,
   "id": "43b3043b",
   "metadata": {},
   "outputs": [],
   "source": [
    "from sklearn.model_selection import train_test_split\n",
    "X_train6, X_test6, y_train6, y_test6 = train_test_split(X_ovs_new,y_ovs_new,test_size=0.2)"
   ]
  },
  {
   "cell_type": "code",
   "execution_count": 67,
   "id": "73f32677",
   "metadata": {},
   "outputs": [
    {
     "name": "stdout",
     "output_type": "stream",
     "text": [
      "{'activation': 'tanh', 'hidden_layer_sizes': (37, 37, 37), 'random_state': 1, 'solver': 'adam'}\n",
      "0.6279070032142515\n"
     ]
    }
   ],
   "source": [
    "from sklearn.model_selection import GridSearchCV\n",
    "clf6 = GridSearchCV(MLPClassifier(), param_grid, scoring='accuracy',n_jobs=-1)\n",
    "clf6.fit(X_train6,y_train6)\n",
    "print(clf6.best_params_)\n",
    "print(clf6.best_score_)"
   ]
  },
  {
   "cell_type": "code",
   "execution_count": 68,
   "id": "f9446e79",
   "metadata": {},
   "outputs": [
    {
     "data": {
      "text/plain": [
       "MLPClassifier(activation='tanh', hidden_layer_sizes=(37, 37, 37),\n",
       "              random_state=1)"
      ]
     },
     "execution_count": 68,
     "metadata": {},
     "output_type": "execute_result"
    }
   ],
   "source": [
    "clf6_best = MLPClassifier(activation='tanh', hidden_layer_sizes = (37,37,37), solver = 'adam', random_state=1)\n",
    "clf6_best.fit(X_train6,y_train6)"
   ]
  },
  {
   "cell_type": "code",
   "execution_count": 69,
   "id": "b4331e21",
   "metadata": {},
   "outputs": [
    {
     "name": "stdout",
     "output_type": "stream",
     "text": [
      "Training Accuracy Score:  0.9507874706233119\n",
      "Testing Accuracy Score:  0.6527777777777778\n"
     ]
    }
   ],
   "source": [
    "print(\"Training Accuracy Score: \",accuracy_score(clf6_best.predict(X_train6),y_train6))\n",
    "print(\"Testing Accuracy Score: \",accuracy_score(clf6_best.predict(X_test6),y_test6))"
   ]
  },
  {
   "cell_type": "code",
   "execution_count": 70,
   "id": "253ff167",
   "metadata": {},
   "outputs": [
    {
     "name": "stdout",
     "output_type": "stream",
     "text": [
      "Training Accuracy Score:  0.9993686204356519\n",
      "Testing Accuracy Score:  0.6745230078563412\n"
     ]
    }
   ],
   "source": [
    "clf6_try1 = MLPClassifier(activation='tanh', hidden_layer_sizes = (44,44,44), solver = 'adam', random_state=1)\n",
    "clf6_try1.fit(X_train6,y_train6)\n",
    "print(\"Training Accuracy Score: \",accuracy_score(clf6_try1.predict(X_train6),y_train6))\n",
    "print(\"Testing Accuracy Score: \",accuracy_score(clf6_try1.predict(X_test6),y_test6))"
   ]
  },
  {
   "cell_type": "code",
   "execution_count": 74,
   "id": "75881dc9",
   "metadata": {},
   "outputs": [
    {
     "name": "stdout",
     "output_type": "stream",
     "text": [
      "Train confusion matrix\n",
      "[[4073    0    0    1    0    0    5]\n",
      " [   1 4068    0    0    0    0    0]\n",
      " [   0    0 4123    0    0    0    0]\n",
      " [   2    0    0 4073    0    0    0]\n",
      " [   0    0    0    0 4051    0    0]\n",
      " [   1    0    0    0    0 4052    0]\n",
      " [   7    0    0    0    0    1 4051]]\n",
      "Test confusion matrix\n",
      "[[ 196   55   27  149    1   38  114]\n",
      " [ 140  811   14  100    2   33   62]\n",
      " [  91   30  887   77    3   24   56]\n",
      " [ 188   39   13  435    8   33   83]\n",
      " [  77   24    7   51 1013   21   38]\n",
      " [ 142   20   10   95    3  846   62]\n",
      " [ 173   44   10  110   10   43  620]]\n",
      "Train Classification Report\n",
      "                                      precision    recall  f1-score   support\n",
      "\n",
      "        Analyst/CRM/Managerial Roles       1.00      1.00      1.00      4079\n",
      "                           Databases       1.00      1.00      1.00      4069\n",
      "Mobile Applications/ Web Development       1.00      1.00      1.00      4123\n",
      "                   Networks/ Systems       1.00      1.00      1.00      4075\n",
      "                              SE/SDE       1.00      1.00      1.00      4051\n",
      "             UX/Design or QA/testing       1.00      1.00      1.00      4053\n",
      "                              others       1.00      1.00      1.00      4059\n",
      "\n",
      "                            accuracy                           1.00     28509\n",
      "                           macro avg       1.00      1.00      1.00     28509\n",
      "                        weighted avg       1.00      1.00      1.00     28509\n",
      "\n",
      "Test Classification Report\n",
      "                                      precision    recall  f1-score   support\n",
      "\n",
      "        Analyst/CRM/Managerial Roles       0.19      0.34      0.25       580\n",
      "                           Databases       0.79      0.70      0.74      1162\n",
      "Mobile Applications/ Web Development       0.92      0.76      0.83      1168\n",
      "                   Networks/ Systems       0.43      0.54      0.48       799\n",
      "                              SE/SDE       0.97      0.82      0.89      1231\n",
      "             UX/Design or QA/testing       0.82      0.72      0.76      1178\n",
      "                              others       0.60      0.61      0.61      1010\n",
      "\n",
      "                            accuracy                           0.67      7128\n",
      "                           macro avg       0.67      0.64      0.65      7128\n",
      "                        weighted avg       0.73      0.67      0.70      7128\n",
      "\n",
      "Train classwise accuracies\n",
      "[0.99852905 0.99975424 1.         0.9995092  1.         0.99975327\n",
      " 0.99802907]\n",
      "Test classwise accuracies\n",
      "[0.33793103 0.6979346  0.75941781 0.54443054 0.8229082  0.71816638\n",
      " 0.61386139]\n"
     ]
    }
   ],
   "source": [
    "from sklearn.metrics import confusion_matrix, classification_report\n",
    "cm6_train = confusion_matrix(clf6_try1.predict(X_train6),y_train6)\n",
    "cm6_test = confusion_matrix(clf6_try1.predict(X_test6),y_test6)\n",
    "cm6_train_cr = classification_report(clf6_try1.predict(X_train6),y_train6)\n",
    "cm6_test_cr = classification_report(clf6_try1.predict(X_test6),y_test6)\n",
    "print(\"Train confusion matrix\")\n",
    "print(cm6_train)\n",
    "print(\"Test confusion matrix\")\n",
    "print(cm6_test)\n",
    "print(\"Train Classification Report\")\n",
    "print(cm6_train_cr)\n",
    "print(\"Test Classification Report\")\n",
    "print(cm6_test_cr)\n",
    "print(\"Train classwise accuracies\")\n",
    "print(cm6_train.diagonal()/cm6_train.sum(axis=1))\n",
    "print(\"Test classwise accuracies\")\n",
    "print(cm6_test.diagonal()/cm6_test.sum(axis=1))"
   ]
  },
  {
   "cell_type": "markdown",
   "id": "696608d3",
   "metadata": {},
   "source": [
    "### CONCLUSION:\n",
    "\n",
    "Model performs best when y is clubbed as the following\n",
    "\n",
    "       'Databases', 'Networks/ Systems', 'Analyst',\n",
    "       'CRM/Managerial Roles', 'Mobile Applications/ Web Development',\n",
    "       'UX/Design', 'QA/Testing', 'Technical Support/Service',\n",
    "       'Programming/ Systems Analyst', 'others', 'SE/SDE'\n",
    "       \n",
    "i.e. in total 11 classes\n",
    "\n",
    "###### Clubbing technique\n",
    "* 'Solutions Architect'  'Data Architect' 'Information Technology Auditor' --> others\n",
    "* 'CRM Business Analyst' 'CRM Technical Developer' 'Project Manager' 'Information Technology Manager' --> Managerial roles/ CRM\n",
    "* 'Business Systems Analyst' 'Business Intelligence Analyst''E-Commerce Analyst'--> Analyst \n",
    "* 'Mobile Applications Developer' 'Web Developer''Applications Developer'   --> Mobile Applications/ Web Development\n",
    "* 'Software Quality Assurance (QA) / Testing' 'Quality Assurance Associate' --> QA/Testing\n",
    "* 'UX Designer' 'Design & UX' --> UX/Design\n",
    "* 'Database Developer' 'Database Administrator' 'Database Manager' 'Portal Administrator' --> Databases\n",
    "* 'Programmer Analyst' 'Systems Analyst'--> Programming/ Systems Analyst\n",
    "* 'Network Security Administrator' 'Network Security Engineer' 'Network Engineer''Systems Security Administrator' 'Software Systems Engineer''Information Security Analyst' --> Networks/ Systems\n",
    "* 'Software Engineer' 'Software Developer' --> SE/SDE\n",
    "* 'Technical Engineer' 'Technical Services/Help Desk/Tech Support' 'Technical Support'--> Technical Support/Service\n",
    "\n",
    "###### Transformation on X ==> OneHotEncoder and StandardScaler applied\n",
    "\n",
    "###### Transformation on dataset as whole ==> oversampling\n",
    "\n",
    "###### with following parameters:\n",
    "* activation='tanh'\n",
    "* hidden_layer_sizes = (44,44,44)\n",
    "* solver = 'adam'\n",
    "* train_test_split = 85:15"
   ]
  },
  {
   "cell_type": "markdown",
   "id": "0f961a8e",
   "metadata": {},
   "source": [
    "Metrics for the model made by combination of best parameters obtained after multiple tries and tests"
   ]
  },
  {
   "cell_type": "code",
   "execution_count": 25,
   "id": "d2ddfbc9",
   "metadata": {},
   "outputs": [],
   "source": [
    "from sklearn.metrics import confusion_matrix,classification_report"
   ]
  },
  {
   "cell_type": "code",
   "execution_count": 26,
   "id": "aa4d3e15",
   "metadata": {},
   "outputs": [
    {
     "name": "stdout",
     "output_type": "stream",
     "text": [
      "Training Accuracy Score:  0.9506110787789006\n",
      "Testing Accuracy Score:  0.7609054114825363\n",
      "-----------------------------------\n",
      "Train confusion matrix\n",
      "-----------------------------------\n",
      "[[3361    9    6    0   36    0    0    0    3    0    4]\n",
      " [  12 3066   25   17  364    3    0    5   19    3    6]\n",
      " [  11   43 3216    2  262    0    0    0   15    0    9]\n",
      " [   3   17    5 3330   64    1    0    1    8    2    1]\n",
      " [  28  265  159   29 2538    1    0    8   41    0   31]\n",
      " [   2    3    0    9    4 3446    0    0    2    1    2]\n",
      " [   2    3   10    0   15    0 3446    0    1    1   21]\n",
      " [   1    4    1    0   11    0    0 3406    1    3    4]\n",
      " [   4   26   13    7   84    0    0    0 3332    0    5]\n",
      " [   3    3    1    2    5    0    0    0    3 3434    0]\n",
      " [   4   11   16    1   53    0    1    1    5    0 3360]]\n",
      "-----------------------------------\n",
      "Test confusion matrix\n",
      "-----------------------------------\n",
      "[[509  19  11  11  45   0   1   2   8   6  10]\n",
      " [ 21 349  27  16  62   3   2   6  16   4  11]\n",
      " [ 11  32 349  13  69   4   0   2  18   1  14]\n",
      " [  7  17  22 527  56   4   5  10  13   0  13]\n",
      " [ 20  69  64  22  76   3   7   7  29   1  26]\n",
      " [ 10  18  14  11  45 575   1   4   5   3   6]\n",
      " [  3  10  24  10  44   1 569   1   6   5  13]\n",
      " [  8  19  11   4  39   0   8 582  12   0  14]\n",
      " [  7  17  30  15  64   0   0   3 489   3   8]\n",
      " [  5  16  17   7  39   2   1   3   3 572   6]\n",
      " [ 11  27  22  10  68   0   2   2  14   4 479]]\n",
      "-----------------------------------\n",
      "Train Classification Report\n",
      "-----------------------------------\n",
      "                                      precision    recall  f1-score   support\n",
      "\n",
      "                             Analyst       0.98      0.98      0.98      3419\n",
      "                CRM/Managerial Roles       0.89      0.87      0.88      3520\n",
      "                           Databases       0.93      0.90      0.92      3558\n",
      "Mobile Applications/ Web Development       0.98      0.97      0.98      3432\n",
      "                   Networks/ Systems       0.74      0.82      0.78      3100\n",
      "        Programming/ Systems Analyst       1.00      0.99      1.00      3469\n",
      "                          QA/Testing       1.00      0.98      0.99      3499\n",
      "                              SE/SDE       1.00      0.99      0.99      3431\n",
      "           Technical Support/Service       0.97      0.96      0.97      3471\n",
      "                           UX/Design       1.00      1.00      1.00      3451\n",
      "                              others       0.98      0.97      0.97      3452\n",
      "\n",
      "                            accuracy                           0.95     37802\n",
      "                           macro avg       0.95      0.95      0.95     37802\n",
      "                        weighted avg       0.95      0.95      0.95     37802\n",
      "\n",
      "-----------------------------------\n",
      "Test Classification Report\n",
      "-----------------------------------\n",
      "                                      precision    recall  f1-score   support\n",
      "\n",
      "                             Analyst       0.83      0.82      0.82       622\n",
      "                CRM/Managerial Roles       0.59      0.68      0.63       517\n",
      "                           Databases       0.59      0.68      0.63       513\n",
      "Mobile Applications/ Web Development       0.82      0.78      0.80       674\n",
      "                   Networks/ Systems       0.13      0.23      0.16       324\n",
      "        Programming/ Systems Analyst       0.97      0.83      0.90       692\n",
      "                          QA/Testing       0.95      0.83      0.89       686\n",
      "                              SE/SDE       0.94      0.84      0.88       697\n",
      "           Technical Support/Service       0.80      0.77      0.78       636\n",
      "                           UX/Design       0.95      0.85      0.90       671\n",
      "                              others       0.80      0.75      0.77       639\n",
      "\n",
      "                            accuracy                           0.76      6671\n",
      "                           macro avg       0.76      0.73      0.74      6671\n",
      "                        weighted avg       0.80      0.76      0.78      6671\n",
      "\n",
      "-----------------------------------\n",
      "Train classwise accuracies\n",
      "-----------------------------------\n",
      "[0.98303598 0.87102273 0.90387858 0.97027972 0.81870968 0.99336985\n",
      " 0.98485282 0.99271349 0.9599539  0.99507389 0.97334878]\n",
      "-----------------------------------\n",
      "Test classwise accuracies\n",
      "-----------------------------------\n",
      "[0.81832797 0.67504836 0.68031189 0.78189911 0.2345679  0.83092486\n",
      " 0.82944606 0.83500717 0.76886792 0.85245902 0.74960876]\n",
      "-----------------------------------\n",
      "Train mean class accuracies:  0.9496581290460976\n",
      "Test classwise accuracies:  0.7324062754444038\n"
     ]
    }
   ],
   "source": [
    "print(\"Training Accuracy Score: \",accuracy_score(clf5_tryn.predict(X_trainn),y_trainn))\n",
    "print(\"Testing Accuracy Score: \",accuracy_score(clf5_tryn.predict(X_testn),y_testn))\n",
    "cm5_train = confusion_matrix(clf5_tryn.predict(X_trainn),y_trainn)\n",
    "cm5_test = confusion_matrix(clf5_tryn.predict(X_testn),y_testn)\n",
    "cm5_train_cr = classification_report(clf5_tryn.predict(X_trainn),y_trainn)\n",
    "cm5_test_cr = classification_report(clf5_tryn.predict(X_testn),y_testn)\n",
    "print(\"-----------------------------------\")\n",
    "print(\"Train confusion matrix\")\n",
    "print(\"-----------------------------------\")\n",
    "print(cm5_train)\n",
    "print(\"-----------------------------------\")\n",
    "print(\"Test confusion matrix\")\n",
    "print(\"-----------------------------------\")\n",
    "print(cm5_test)\n",
    "print(\"-----------------------------------\")\n",
    "print(\"Train Classification Report\")\n",
    "print(\"-----------------------------------\")\n",
    "print(cm5_train_cr)\n",
    "print(\"-----------------------------------\")\n",
    "print(\"Test Classification Report\")\n",
    "print(\"-----------------------------------\")\n",
    "print(cm5_test_cr)\n",
    "print(\"-----------------------------------\")\n",
    "print(\"Train classwise accuracies\")\n",
    "print(\"-----------------------------------\")\n",
    "l1 = cm5_train.diagonal()/cm5_train.sum(axis=1)\n",
    "print(l1)\n",
    "l2 = cm5_test.diagonal()/cm5_test.sum(axis=1)\n",
    "print(\"-----------------------------------\")\n",
    "print(\"Test classwise accuracies\")\n",
    "print(\"-----------------------------------\")\n",
    "print(l2)\n",
    "print(\"-----------------------------------\")\n",
    "print(\"Train mean class accuracies: \",np.mean(l1))\n",
    "print(\"Test classwise accuracies: \",np.mean(l2))"
   ]
  }
 ],
 "metadata": {
  "kernelspec": {
   "display_name": "Python 3 (ipykernel)",
   "language": "python",
   "name": "python3"
  },
  "language_info": {
   "codemirror_mode": {
    "name": "ipython",
    "version": 3
   },
   "file_extension": ".py",
   "mimetype": "text/x-python",
   "name": "python",
   "nbconvert_exporter": "python",
   "pygments_lexer": "ipython3",
   "version": "3.9.9"
  }
 },
 "nbformat": 4,
 "nbformat_minor": 5
}
